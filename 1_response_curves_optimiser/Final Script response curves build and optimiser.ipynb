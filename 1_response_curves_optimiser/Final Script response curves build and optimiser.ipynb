{
 "cells": [
  {
   "cell_type": "markdown",
   "metadata": {},
   "source": [
    "# Media scenario and optimisation tool\n",
    "## Table of Contents\n",
    "1. [Chapter 1: Background and setup](#Chapter1)\n",
    "<br>1.1 [Set up](#Set_up)\n",
    "<br>1.2 [Defining functions](#definitions)\n",
    "<br>1.3 [Calculating VWAP](#vwap)\n",
    "2. [Chapter 2: Methodology for simulating revenue contrinutions](#Chapter2)\n",
    "<br>2.1 [Simulating revenue contributions from model coefficients](#Revenue_contributions_model_coefficients)\n",
    "<br>2.2 [Estimating relationship between input volume contributions](#input_volume_relationship)\n",
    "3. [Chapter 3: Plotting response curves with fitted coefficients](#Chapter3)\n",
    "4. [Chapter 4 : Generating Spend vs Revenue arrays](#Chapter4)\n",
    "5. [Chapter 5 : Validating the results](#Chapter5)\n",
    "6. [Chapter 6: Storing the results](#Chapter6)\n",
    "7. [Chapter 7: Fitting the functions](#Chapter7)\n",
    "8. [Chapter 8: Optimisation](#Chapter8)"
   ]
  },
  {
   "cell_type": "markdown",
   "metadata": {},
   "source": [
    "# Chapter 1: Background and setup <a name=\"Chapter1\"></a>"
   ]
  },
  {
   "cell_type": "markdown",
   "metadata": {},
   "source": [
    "### Background information - defining the problem\n",
    "\n",
    "Heineken has been one of the most successful companies in implementing efficient marketing strategies that drive revenue and ROI. In 2018, Heineken has tested multiple Individualised Data Driven Marketing (IDDM) campaigns, to support its Star Pubs & Bars customers with geo-targeted digital media, which proved to be incredibly successful. As a result, in 2020, IDDM was launched in nearly 30 markets, and Heineken has increased investments in video and audio streaming platforms, alongside with becoming more creative at bringing sponsorships into the virtual space, in order to drive e-commerce. The brewing giant doesn’t shy away from spending billions of pounds sterling on marketing and sales, in order to maintain its competitive position. In 2020, its marketing and sales budget reached £2.044 bln, and as the need to adapt faster to rising business challenges, like the unpredictable Covid-19 pandemic, there has never been a higher demand for efficient allocation of resources, and Data Science plays a crucial role in this process. \n",
    "\n",
    "One of the main sales metrics used by the company for measuring growth is volume of beverage sold, measured in millions of hectolitres (mhl). Heineken’s 2020 Annual Report announced a staggering 221.6 mhl of consolidated beer brands sold in 2020, and therefore predicting the effect of marketing efforts on volume growth is the main objective of the business.   \n",
    "\n",
    "The Marketing Data Science team works alongside and guides the Media Planning and Brand Managers by providing with necessary support from a data perspective, to ensure budget decisions are validated by data modelling techniques. \n",
    "\n",
    "To support the work done by the Data Science team, Heineken has a series of existing tools available within the business, each of which have some limitations which block a more widespread adoption within its company:  \n",
    "\n",
    "- Third party Marketing Mix Modelling(MMM) software tool provided by Mass Analytics. The tool is able to facilitate in defining the MMM suitable for Heineken brands. By inputting appropriate data, the tool is able to run appropriate transformations and simulations, and take into account factors like seasonality and n-degree multi variate synergies amongst variables, to assign appropriate coefficients to each element in the prediction model, that would accurately explain the variance in Volume of beer sold. One of the key challenges around the existing tool is the very high price of the license, and inherent black box approach, which limits the user from having visibility over transformations made to obtain model inputs. To alleviate this issue, the current project aims to decompose the current MMM model in order to derive those data transformations and use the MMM outputs for making better business decisions. \n",
    "\n",
    "- Third party demo scenario tool called Polestar, which is used by the media planning team to create various budget scenarios across different media channels. The challenges with this resource are its limitation in its ability to predict impact on volume or revenue or create scenarios for more than 2 brands within the company, as well as the fact that it cannot run an optimisation with suitable variable constraints for each media channel.\n",
    "\n",
    "- Excel optimiser tool created by the Spanish Data Science team, which is not used by the UK stakeholders, as it’s not easily comprehensible or applicable to the brands owned by the UK business unit. \n",
    "\n",
    "The company’s motivation consists in creating a new media scenario and optimisation tool with a user-friendly interface, that is easily replicable across various brands, and which can recommend optimal split for marketing budgets. Ideally, internal stakeholders should be able to easily input their budget constraints in order to obtain a recommendation of media laydown strategy."
   ]
  },
  {
   "cell_type": "markdown",
   "metadata": {},
   "source": [
    "## MMM, response curves, and other terms defined...\n",
    "Strategic marketing is key to a company’s success in the 21st century, and mastering this skill requires a unique blend of rational analysis, creativity and adaptability. (Kourdi, 2011) With an increased number of available media channels and marketing activities for promoting products and services, strategy is what creates the ultimate advantage. In order to determine the best course of action and the most efficient allocation of marketing resources in a competitive landscape, one must have a great understanding of the relative performance of each marketing metric, relative to brands belonging to the same category.  \n",
    "\n",
    "Marketing Mix Modelling is the analytical approach to this challenge, and its purpose is to evaluate the Return on Investment (ROI) as a function of various marketing drivers and recommend the optimal marketing budget allocations. The model often uses regression methods to estimate the response in demand to marketing investments, by accounting for long-term trends, which are derived from customer preferences, distribution, prices and other factors; and also, by accounting for incremental volumes, which may depend on promotions and online and offline media activity.  \n",
    "\n",
    "The process of allocating budgets is directly linked to the optimal reassignment of media resources, subject to a set of constraints, typically budget constraints. Maximising revenue by minimising the total budget spend requires a thorough analysis of media response curves, which are the most popular output of Marketing Mix Models (MMMs). (Cain, 2014) \n",
    "\n",
    "The type of effects that can have an impact on MMM are:\n",
    "\n",
    "*The current effect* - is the impact that advertising has in the change in sales which is observed at the same time as the exposure period to the advertising itself.  \n",
    "\n",
    " \n",
    "\n",
    "*The carryover effect* (Which is also known as Adstock Decay) is the impact if advertising that is recorded in periods of time after the exposure to advertising. This effect can be long, or short, and it can be caused by various aspects, for example: the consumer could make the purchase due to word of mouth from others who have been exposed to the ad, customers could have a slowed down response to the ad or even a delayed exposure from the moment of purchase of ad space (Print or TV have similar effects). \n",
    "\n",
    " \n",
    "\n",
    "*The Shape effect* (which we refer to as diminishing returns value) is the portrayal of the relationship between sales and increase in advertising effort over the same period of time. Therefore, it is important to note that in our future simulation, the response curve is a portrayal of the effect on sales from spending more marketing budget during the same period. This relationship can take various shapes, which can be linear, concave, convex or S-shaped. Linear and Convex are very unlikely in the real world scenarios, however Concave and S-Shapes are most like to correspond to the natural behaviour of advertising, given that marketing expenditure at very low-levels can have very little effect due ads getting drowned in the noise, whilst a marketing budget that is set at an exaggerated level can decrease the impact on sales, as consumers become fatigued from over-exposure to the same ad, and the market becomes saturated. Thus, a moderate level of advertising effort would lead to higher expected response in sales. \n",
    "\n",
    " \n",
    "\n",
    "*Competitive effects* are captured in the variables of our model that measure competitors' advertising. \n",
    "\n",
    " \n",
    "\n",
    "*Dynamic effects* are the advertising effects that change as time changes, defined by carryover effects, wearin, wearout and hysteresis. Wearin is when the response to revenue or sales increases week by week, as an advertising campaign is run at the same level weekly, wearout is when the response decreases from week to week, as a result of consumer tedium, and hysteresis is a permanent effect even after the campaign is no longer running, which is a very unlikely and rare event. \n",
    "\n",
    " \n",
    "\n",
    "*Content effects* are the response difference due to the variation in ad creatives.  \n",
    "\n",
    " \n",
    "\n",
    "*Media effects* are the variations in response to advertising which are caused by contextual placement of the ad - for example which channel is an ad placed on TV, or which story is the ad next to in the newspaper. "
   ]
  },
  {
   "cell_type": "markdown",
   "metadata": {},
   "source": [
    "### 1.1 Set up <a name=\"Set_up\"></a>"
   ]
  },
  {
   "cell_type": "markdown",
   "metadata": {},
   "source": [
    "#### Setting up the packages that will be required for this tool"
   ]
  },
  {
   "cell_type": "code",
   "execution_count": 1,
   "metadata": {},
   "outputs": [
    {
     "name": "stdout",
     "output_type": "stream",
     "text": [
      "3.8.10\n"
     ]
    }
   ],
   "source": [
    "#checking we are running the correct python version\n",
    "from platform import python_version\n",
    "print(python_version())"
   ]
  },
  {
   "cell_type": "code",
   "execution_count": 2,
   "metadata": {},
   "outputs": [],
   "source": [
    "#piece of code that will show all outputs of the code which is run in the same cells\n",
    "from IPython.core.interactiveshell import InteractiveShell\n",
    "InteractiveShell.ast_node_interactivity = \"all\"\n",
    "\n",
    "#importing packages\n",
    "import pandas as pd\n",
    "import numpy as np\n",
    "import openpyxl\n",
    "from matplotlib import pyplot as plt\n",
    "from scipy.optimize import curve_fit, minimize\n",
    "import itertools\n",
    "from nltk import flatten\n",
    "import statistics\n",
    "from scipy.stats import linregress\n",
    "from scipy.interpolate import interp1d\n",
    "from scipy.optimize import minimize\n",
    "\n",
    "#setting this option so we can check all the rows of the dataframes\n",
    "pd.set_option('display.max_rows', None)\n",
    "pd.set_option('display.width', 1000)"
   ]
  },
  {
   "cell_type": "markdown",
   "metadata": {},
   "source": [
    "### 1.2 Defining the necessary functions <a name=\"definitions\"></a>"
   ]
  },
  {
   "cell_type": "markdown",
   "metadata": {},
   "source": [
    "All functions below must be run and they will produce no output for now.\n",
    "<br> In order to be able to kick start the process of plotting curves, we would need the user to input the desired channel. "
   ]
  },
  {
   "cell_type": "code",
   "execution_count": 3,
   "metadata": {
    "scrolled": true
   },
   "outputs": [
    {
     "name": "stdout",
     "output_type": "stream",
     "text": [
      "Enter Media Channel:\n",
      "PVID & BVOD\n"
     ]
    }
   ],
   "source": [
    "#manually inputting which channel we are interested in plotting the curve for:\n",
    "print('Enter Media Channel:')\n",
    "#enter PVID & BVOD\n",
    "channel=input()"
   ]
  },
  {
   "cell_type": "markdown",
   "metadata": {},
   "source": [
    "We define the Lag, Diminishing returns and Decay values for each media channel based on  information we already hold from the MMM and the details we derive from the Masster software tool:"
   ]
  },
  {
   "cell_type": "code",
   "execution_count": 4,
   "metadata": {},
   "outputs": [],
   "source": [
    "#Defining the values for Lag, Diminishing returns and Decay\n",
    "lag_values={'Cinema':1, 'FB':0, 'PVID & BVOD':3, 'Youtube':0, 'Print':1, 'Radio':2, 'Twitter':0, 'Partnership':3, 'TV 2017':0, 'TV 2018':0, 'B&D':1 }\n",
    "decay_values={'Cinema':90, 'FB':90, 'PVID & BVOD':20, 'Youtube':80, 'Print':90, 'Radio':80, 'Twitter':80, 'Partnership':70, 'TV 2017':20, 'TV 2018':20, 'B&D':10 }\n",
    "diminishing_returns_values={'Cinema':0.90, 'FB':0.75, 'PVID & BVOD':0.9, 'Youtube':0.95, 'Print':0.9, 'Radio':0.5, 'Twitter':0.85}\n",
    "saturation_values={'Partnership':50, 'TV 2017':90, 'TV 2018':90, 'B&D':50 }\n",
    "gamma_values={'Partnership':2, 'TV 2017':3, 'TV 2018':3, 'B&D':3 }\n"
   ]
  },
  {
   "cell_type": "code",
   "execution_count": 5,
   "metadata": {},
   "outputs": [],
   "source": [
    "#Defining the function that will help return the variable coefficient from the Masster model:\n",
    "\n",
    "def get_model_coefficient(channel):\n",
    "    #getting the excel with model coefficients and clearing up the rest of the irrelevant data\n",
    "    model_coefficients=pd.read_excel(r'Fosters\\Fosters Model - Decomposition - Raw TV.xlsx',sheet_name='Model Coefficients')\n",
    "\n",
    "    #Removing the current names of the columns and replacing with the first row as n ames of the columns. \n",
    "    model_coefficients=model_coefficients.rename(columns=model_coefficients.iloc[0])[1:]\n",
    "\n",
    "    #Fitlering the \n",
    "    model_coefficients=model_coefficients[['Variables', 'Coefficient']]\n",
    "\n",
    "    #getting the value of the coefficient for PVID and BVOD\n",
    "    channel_coeff=model_coefficients['Coefficient'][int(model_coefficients[model_coefficients['Variables'].str.contains(channel)].index.values)]\n",
    "    \n",
    "    return channel_coeff"
   ]
  },
  {
   "cell_type": "markdown",
   "metadata": {},
   "source": [
    "We have to remove any other columns in the excel file, and only retain the \"Raw\" and predicted volume values - \"Y\". This is for decomposing the model, irrespective of the date when the Raw input or predicted Y occured. "
   ]
  },
  {
   "cell_type": "code",
   "execution_count": 6,
   "metadata": {},
   "outputs": [],
   "source": [
    "#creating a function which will read and extract the information from the raw excel files\n",
    "def get_main_dataframe(channel):\n",
    "    \n",
    "    #import the excel of the Y values\n",
    "    df_Y=pd.read_excel(r'Fosters\\Model prediction Y.xlsx',sheet_name='Model predictions')\n",
    "    #import the excel of the model coefficients\n",
    "    model_coefficients=pd.read_excel(r'Fosters\\Fosters Model - Decomposition - Raw TV.xlsx',sheet_name='Model Coefficients')\n",
    "    #Removing the current names of the columns and replacing with the first row as n ames of the columns. \n",
    "    model_coefficients=model_coefficients.rename(columns=model_coefficients.iloc[0])[1:]\n",
    "\n",
    "    #import the excel of the Raw data for all channels\n",
    "    df_excel=pd.read_excel(r'Fosters\\Fosters Model - Decomposition - Raw TV.xlsx',sheet_name=f'Media Laydown - {channel}')\n",
    "    df=df_excel.copy()\n",
    "    \n",
    "    channel_coeff=get_model_coefficient(channel)\n",
    "    \n",
    "    #determine whether the variable from the model is already taken as \"Spend\" or as \"Impressions/Admissions/Impacts\"\n",
    "    #If it's 'impressions', then the impressions_per_pound will need to be computed based on the two columns of data (Spend vs Impressions) as this will be needed for later transformations\n",
    "    x=model_coefficients['Variables'][int(model_coefficients[model_coefficients['Variables'].str.contains(channel)].index.values)]\n",
    "    if \"Spend\" in x:\n",
    "        raw_metric='Spend'\n",
    "        impressions_per_pound=1 #setting to one, as it won't affect the Raw column if divided by 1 later on. This means there is no need for further transformation on X axis of the response curve\n",
    "    elif 'Admissions' in x:\n",
    "        raw_metric='Admissions'\n",
    "        impressions_per_pound=(df.filter(regex=channel))\n",
    "        impressions_per_pound=sum(impressions_per_pound.iloc[:,1])/sum(impressions_per_pound.iloc[:,0])\n",
    "    elif 'Impacts' in x:\n",
    "        raw_metric='Impacts'\n",
    "        impressions_per_pound=(df.filter(regex=channel))\n",
    "        impressions_per_pound=sum(impressions_per_pound.iloc[:,1])/sum(impressions_per_pound.iloc[:,0])\n",
    "    elif 'TVR' in x:\n",
    "        raw_metric='TVR'\n",
    "        impressions_per_pound=(df.filter(regex=channel))\n",
    "        impressions_per_pound=sum(impressions_per_pound.iloc[:,1])/sum(impressions_per_pound.iloc[:,0])\n",
    "    else:\n",
    "        raw_metric='Impressions'\n",
    "        impressions_per_pound=(df.filter(regex=channel))\n",
    "        impressions_per_pound=sum(impressions_per_pound.iloc[:,1])/sum(impressions_per_pound.iloc[:,0])\n",
    "    \n",
    "    #Filtering the Raw column from the decomposition excel file and concatenating with the actual Y values.\n",
    "    #we must resolve the situations with 'Impressions or Spend' being considered as the simulated metric for various channels\n",
    "    df_test=pd.concat([(pd.DataFrame(((df.filter(regex=channel)).filter(regex=raw_metric)).iloc[:,0]).set_axis([\"Raw\"], axis=1)), df_Y[['Y']].dropna()],axis=1)\n",
    "    return df_test"
   ]
  },
  {
   "cell_type": "markdown",
   "metadata": {},
   "source": [
    "###### This function will check for any NAN values in the df to ensure we won't run into any problems. If there's no NAN values, the same dataframe will return with no changes."
   ]
  },
  {
   "cell_type": "code",
   "execution_count": 7,
   "metadata": {},
   "outputs": [],
   "source": [
    "#in case the position of the columns is incorrect (i.e. there are Nan values within the dataset), we created the below function to test that the dataset is clean\n",
    "def clean_df_empty(df_excel):\n",
    "\n",
    "    #dropping the unnamed columns as they are empty \n",
    "    df_excel=df_excel[df_excel.columns.drop(list(df_excel.filter(regex='Unnamed')))]\n",
    "\n",
    "    #dropping all columns that we don't need and renaming the dataframe\n",
    "    df_excel=df_excel[['Raw', 'Y']]\n",
    "    #df_clean=df\n",
    "\n",
    "    #returning the position (index) of the first row that has NAN values. We are aiming to get rid of the rows with NAN values. And then we resave the df_clean\n",
    "    try:\n",
    "        pos = df_excel[df_excel.isnull().all(axis=1)].index[0]\n",
    "        df_excel=df_excel.iloc[:pos]\n",
    "    except: \n",
    "        print('None of the rows contain a NAN, returning same Dataframe')\n",
    "    \n",
    "    return df_excel\n",
    "\n"
   ]
  },
  {
   "cell_type": "code",
   "execution_count": 8,
   "metadata": {},
   "outputs": [],
   "source": [
    "#function for generating all column transformations to account for lag effect, diminishing returns and decay\n",
    "def get_all_columns(df):\n",
    "    #new method\n",
    "    df.loc[:,'Lag']=df.loc[:,'Raw'].shift(lag).ffill()\n",
    "    #df['Lag']=df['Raw'].shift(lag).ffill()\n",
    "    #selecting if it's TV or partnerships\n",
    "    \n",
    "    if channel in ['Partnership', 'TV 2017', 'TV 2018', 'B&D']:\n",
    "        #create another column for Diminishing returns that will calculate the values based on the formula (1-exp(-dim_returns*Lag))\n",
    "        for row in range(0,len(df.index)):\n",
    "            df.loc[row,'Diminishing Returns']=(((df.loc[row,'Lag'])/((max_lag/100)))**gamma)/((((df.loc[row,'Lag'])/((max_lag/100)))**gamma)+(saturation**gamma))\n",
    "    else:\n",
    "        #create another column for Diminishing returns that will calculate the values based on the formula (1-exp(-dim_returns*Lag))\n",
    "        df.loc[:,'Diminishing Returns']=(1.0-np.exp(-df.loc[:,'Lag']/dim_returns))\n",
    "\n",
    "    #remove all nans and replace with zeroes\n",
    "    df=df.fillna(0)\n",
    "\n",
    "    #create another column for Decay that will calculate the values based on the formula: Decay[row]=Decay[row-1]*(1-decay/100)+Diminishing returns[row]\n",
    "    df.loc[0, 'Decay']=df['Diminishing Returns'][0]\n",
    "    for row in range(1,len(df.index)):\n",
    "        df.loc[row, 'Decay']=df['Decay'][row-1]*(1-decay/100)+df['Diminishing Returns'][row]\n",
    "\n",
    "    #getting the percentage change in PVID\n",
    "    df['Percentage change in Y caused by PVID']=df['Decay']*channel_coeff\n",
    "\n",
    "    #Adding the predicted Volume with the \"impact\" from the PVID media based on % change impact\n",
    "    df['Y + PVID Media']=df['Y']+df['Percentage change in Y caused by PVID']\n",
    "\n",
    "    #Creating columns for actual values of volumes by taking exponential of Y and Y+media and computing the difference\n",
    "    df['exp(Y)']=np.exp(df['Y'])\n",
    "    df['exp(Y + PVID Media)']=np.exp(df['Y + PVID Media'])\n",
    "    df['Volume diff']=df['exp(Y + PVID Media)']-df['exp(Y)']\n",
    "    return df"
   ]
  },
  {
   "cell_type": "markdown",
   "metadata": {},
   "source": [
    "For TV, we require a new variable that will calculate the maximum value in the \"Lag\" column. This is to allow this value to be recalculated for every channel, and avoid for the curve to be a straight flat line."
   ]
  },
  {
   "cell_type": "code",
   "execution_count": 9,
   "metadata": {},
   "outputs": [],
   "source": [
    "#for TV we will need a fixed value for max lag column based on historical data in order to avoid the curve being a straight line:\n",
    "def get_max_lag(df):\n",
    "    df.loc[:,'Lag']=df.loc[:,'Raw'].shift(lag).ffill()\n",
    "    max_lag_tv=df['Lag'].max()\n",
    "    return max_lag_tv"
   ]
  },
  {
   "cell_type": "markdown",
   "metadata": {},
   "source": [
    "The below function would be for extracting the values for lag, decay, diminishing returns, and for TV: saturation and gamma.  Diminishing returns will be calculated based on Max value in the raw column. "
   ]
  },
  {
   "cell_type": "code",
   "execution_count": 10,
   "metadata": {},
   "outputs": [],
   "source": [
    "#testing that the function works\n",
    "df=get_main_dataframe(channel)"
   ]
  },
  {
   "cell_type": "code",
   "execution_count": 11,
   "metadata": {},
   "outputs": [],
   "source": [
    "#extracting the lag, decay, diminishing returns values. for all TV, they will have to go through and IF function to extract saturation and gamma:\n",
    "lag=lag_values.get(channel)\n",
    "decay=decay_values.get(channel)\n",
    "list1=[\"Partnership\", \"TV 2017\",\"TV 2018\" \"B&D\"]\n",
    "if channel in list1:\n",
    "    saturation=saturation_values.get(channel)\n",
    "    gamma=gamma_values.get(channel)\n",
    "else:\n",
    "    dim_returns=(diminishing_returns_values.get(channel))*max(df['Raw'])"
   ]
  },
  {
   "cell_type": "markdown",
   "metadata": {},
   "source": [
    "#### Reading the excel files"
   ]
  },
  {
   "cell_type": "markdown",
   "metadata": {},
   "source": [
    "It is important that the empty lines at the top of the excel files be removed prior to uploading the data to Python. Only the names of the columns are important \"Raw\", \"Y\" (Predicted Volumes), etc. This way the algorithm will render the desired outcome."
   ]
  },
  {
   "cell_type": "code",
   "execution_count": 12,
   "metadata": {
    "scrolled": true
   },
   "outputs": [],
   "source": [
    "#import the excel of the Y values\n",
    "df_Y=pd.read_excel(r'Fosters\\Model prediction Y.xlsx',sheet_name='Model predictions')\n",
    "#import the excel of the model coefficients\n",
    "model_coefficients=pd.read_excel(r'Fosters\\Fosters Model - Decomposition - Raw TV.xlsx',sheet_name='Model Coefficients')\n",
    "#Removing the current names of the columns and replacing with the first row as n ames of the columns. \n",
    "model_coefficients=model_coefficients.rename(columns=model_coefficients.iloc[0])[1:]\n",
    "\n",
    "#import the excel of the Raw data for all channels\n",
    "df_excel=pd.read_excel(r'Fosters\\Fosters Model - Decomposition - Raw TV.xlsx',sheet_name=f'Media Laydown - {channel}')\n",
    "df=df_excel.copy()\n",
    "\n",
    "#import the sheet relatedc to volume contributions\n",
    "volume_contributions=pd.read_excel(r'Fosters\\Fosters Model - Decomposition - Raw TV.xlsx',sheet_name='Final Volume Contributions')"
   ]
  },
  {
   "cell_type": "code",
   "execution_count": 13,
   "metadata": {},
   "outputs": [],
   "source": [
    "#determine whether the variable from the model is already taken as \"Spend\" or as \"Impressions/Admissions/Impacts\"\n",
    "#If it's impressions, then the impressions per pound will need to be computed based on the two columns of data (Spend vs Impressions) as this will be needed for later transformations\n",
    "x=model_coefficients['Variables'][int(model_coefficients[model_coefficients['Variables'].str.contains(channel)].index.values)]\n",
    "if \"Spend\" in x:\n",
    "    raw_metric='Spend'\n",
    "    impressions_per_pound=1 #setting to one, as it won't affect the Raw column if divided by 1 later on. This means there is no need for further transformation on X axis of the response curve\n",
    "elif 'Admissions' in x: \n",
    "    raw_metric='Admissions'\n",
    "    impressions_per_pound=(df.filter(regex=channel))\n",
    "    impressions_per_pound=sum(impressions_per_pound.iloc[:,1])/sum(impressions_per_pound.iloc[:,0])       \n",
    "elif 'TVR' in x:\n",
    "    raw_metric='TVR'\n",
    "    impressions_per_pound=(df.filter(regex=channel))\n",
    "    impressions_per_pound=sum(impressions_per_pound.iloc[:,1])/sum(impressions_per_pound.iloc[:,0])\n",
    "else:\n",
    "    raw_metric='Impressions'\n",
    "    impressions_per_pound=(df.filter(regex=channel))\n",
    "    impressions_per_pound=sum(impressions_per_pound.iloc[:,1])/sum(impressions_per_pound.iloc[:,0])"
   ]
  },
  {
   "cell_type": "markdown",
   "metadata": {},
   "source": [
    "### 1.3 Calculating VWAP <a name=\"vwap\"></a>"
   ]
  },
  {
   "cell_type": "markdown",
   "metadata": {},
   "source": [
    "The below functions will extract the \"Final Volume contributions\" from the Masster exports in order to also calculate the Volume Average weighted price."
   ]
  },
  {
   "cell_type": "markdown",
   "metadata": {},
   "source": [
    "Calculating Volume weighted average price $VWAP = \\frac{\\sum {Price}*Volume}{\\sum {Volume}}$"
   ]
  },
  {
   "cell_type": "code",
   "execution_count": 14,
   "metadata": {},
   "outputs": [],
   "source": [
    "#defining functions for getting volume contributions (from the masster)\n",
    "def get_Masster_final_volume_contributions(channel):\n",
    "    #import the sheet relatedc to volume contributions\n",
    "    volume_contributions=pd.read_excel(r'Fosters\\Fosters Model - Decomposition - Raw TV.xlsx',sheet_name='Final Volume Contributions')\n",
    "    \n",
    "    #Removing the current names of the columns and replacing with the first row as n ames of the columns. \n",
    "    volume_contributions=volume_contributions.rename(columns=volume_contributions.iloc[0])[1:]\n",
    "\n",
    "    #getting the value of the coefficient for PVID and BVOD\n",
    "    volumes=flatten(volume_contributions.filter(regex=channel).values.tolist())\n",
    "    \n",
    "    return volumes\n",
    "\n",
    "#defining functions for getting weighted average price for channel\n",
    "def get_weighted_average_price(channel):\n",
    "    \n",
    "    volumes=get_Masster_final_volume_contributions(channel)\n",
    "    \n",
    "    #import the sheet related to prices\n",
    "    prices=pd.read_excel(r'Fosters\\Fosters APPL.xlsx') #historical data of average per liter\n",
    "\n",
    "    #dropping the unnamed columns as they are empty \n",
    "    prices=prices[prices.columns.drop(list(prices.filter(regex='Unnamed')))]\n",
    "\n",
    "    #cutting the unnecssary cells out\n",
    "    prices=prices[['Date','APPL_FOSTERS']][:-1]\n",
    "\n",
    "    #creating new column with Price x Volume \n",
    "    prices['Price x Volume']=prices['APPL_FOSTERS']*volumes\n",
    "\n",
    "    #weighted average price \n",
    "    VWAP=sum(prices['Price x Volume'])/sum(volumes)\n",
    "    \n",
    "    return VWAP"
   ]
  },
  {
   "cell_type": "code",
   "execution_count": 15,
   "metadata": {},
   "outputs": [],
   "source": [
    "df=get_main_dataframe(channel)"
   ]
  },
  {
   "cell_type": "code",
   "execution_count": 16,
   "metadata": {},
   "outputs": [
    {
     "name": "stdout",
     "output_type": "stream",
     "text": [
      "None of the rows contain a NAN, returning same Dataframe\n"
     ]
    }
   ],
   "source": [
    "df=clean_df_empty(df)"
   ]
  },
  {
   "cell_type": "markdown",
   "metadata": {},
   "source": [
    "# Chapter 2: Methodology for simulating contributions <a name=\"Chapter2\"></a>"
   ]
  },
  {
   "cell_type": "markdown",
   "metadata": {},
   "source": [
    "Our MMM for Fosters is a log-linear mathematical formula. \n",
    "When taking the exponential of the dependent variable (Volume), we obtain a multiplicative model, which is suitable for Marketing Mix due to the fact that it takes into account synergy effects and the impact that each independent variable can have on one another. \n",
    "\n",
    "<br>Log linear models are defined by the general mathematical formula:\n",
    "$ln(y) = \\beta_0 + \\beta_1*X_{Competitors} + \\beta_2*X_{MediaChannel1} + \\beta_3*X_{MediaChannel2} + ... + error$\n",
    "\n",
    "<br> which would also be the equivalent of :\n",
    "$Y = e^{\\beta_0} * e^{\\beta_1*X_{Competitors}} *e^{ \\beta_2*X_{MediaChannel1}} * e^{\\beta_3*X_{MediaChannel2}} * ... * e^{error}$\n",
    "\n",
    "The coefficients 𝛃_(𝟎…𝒌) define the percentage increase (or decrease) in the response variable for every one-unit increase in the independent variable(s).\n",
    "<br>We will use this principle to estimate the individual volume contributions of each media channel and plot the response curves, and compare the results against the volume contributions from the Masster tool."
   ]
  },
  {
   "cell_type": "markdown",
   "metadata": {},
   "source": [
    "### 2.1 Simulating revenue contributions based on model coefficients <a name=\"Revenue_contributions_model_coefficients\"></a>"
   ]
  },
  {
   "cell_type": "markdown",
   "metadata": {},
   "source": [
    "In order to be able to plot the response curves, we would need to simulate through various values of Raw inputs (note that Raw inputs can be impressions or raw spend), perform the necessary transformations and then save all the coresponding volume contributions for each input. By saving these, we can then transform the raw input back into raw spend (if the input is not already taken as raw spend), and we can convert volumes back to revenue contributions by applying multiplying by VWAP. "
   ]
  },
  {
   "cell_type": "code",
   "execution_count": 17,
   "metadata": {},
   "outputs": [],
   "source": [
    "#defining a function that will take the original raw data, generate the columns and populate the inputs and volumes list\n",
    "\n",
    "\n",
    "def simulate_rev_contributions_with_model_coefficients(df,min_limit, max_limit, step_size):\n",
    "    #create a new list that will store all the values trialled for the simulation\n",
    "    raw_values=[]\n",
    "\n",
    "    #creating empty list for revenue contributions\n",
    "    revenue_contrib=[]\n",
    "\n",
    "    #once a clean_df is generated with only Raw and Y columns we can do the following:\n",
    "    #create a copy\n",
    "    df_2=df[['Raw', 'Y']].copy()\n",
    "    max_lag=get_max_lag(df_2)\n",
    "    #fill the 'Raw' column with zero values\n",
    "    df_2['Raw'].values[:]=0\n",
    "    \n",
    "    #defining a loop that will iterate through various numbers and simulate the inputs and volumes\n",
    "    \n",
    "    for i in range(min_limit,max_limit,step_size):\n",
    "        \n",
    "        #apending the raw_values with the i value\n",
    "        raw_values.append(i)\n",
    "        #Replacing first Raw value with i value as a test\n",
    "        df_2.loc[0,'Raw']=i\n",
    "    \n",
    "        #use previously defined function to get all columns\n",
    "        df_2=get_all_columns(df_2) #this will generate the VOlume contributions based on the % change logic, where 1 unit change in the independent variable defines the % change impact on Y \n",
    "\n",
    "        #convert volume contributions back to revenue contributions\n",
    "        revenue_contrib.append((df_2.loc[:,'Volume diff']*(get_weighted_average_price(channel))).sum())\n",
    "    \n",
    "    #plot the response curves using Raw values and Volume contributions\n",
    "    plt.plot(np.array(raw_values)/impressions_per_pound,revenue_contrib, label=channel)\n",
    "\n",
    "    plt.xlabel('Raw values spend')\n",
    "    plt.ylabel(f'{channel} contribution to revenue')\n",
    "    plt.xticks(rotation=45)\n",
    "    \n",
    "    plt.ticklabel_format(style='plain')    # to prevent scientific notation.\n",
    "    plt.legend(bbox_to_anchor=(1.05, 1.0), loc='upper left')\n",
    "    return plt.legend()\n",
    "    \n",
    "    "
   ]
  },
  {
   "cell_type": "markdown",
   "metadata": {},
   "source": [
    "### 2.2 Estimating relationship between input variable and Masster volume contributions  <a name=\"input_volume_relationship\"></a>"
   ]
  },
  {
   "cell_type": "markdown",
   "metadata": {},
   "source": [
    "We estimate the linear relationship between the model input variables and the volume contributions for each channel. These volumes contributions are exported from the MassTer tool. \n",
    "The reason we do that is because our goal is actually to be able to re-create the Response curves by estimating the transformation that has been done in the background by the MassTer tool, in order to achieve the certain values the values for volume that it has exported. We do not have full information about how this transformation was done, however we do know that the relationship between the transformed input variable and volume is pretty linear. We are aiming to investigate this relationship and fit the best fitting curve that will define this relationship. We will use the curve coefficients, from hereon referred to as \"fitted coefficients\" to generate our own response curves."
   ]
  },
  {
   "cell_type": "code",
   "execution_count": 18,
   "metadata": {},
   "outputs": [],
   "source": [
    "#writing function to get coefficients for plotting volumes contributions as a function of Raw inputs for Spend\n",
    "def get_spend_to_volume_coefficients(channel):\n",
    "    #there's no need to go back to spend if the original model is based on impressions \n",
    "    \n",
    "    #get volumes for this specific channel\n",
    "    volumes=get_Masster_final_volume_contributions(channel)\n",
    "    #apply the two previous functions\n",
    "    df=get_main_dataframe(channel)\n",
    "    df=get_all_columns(df)\n",
    "    \n",
    "    #assigning the 'original data' input values to a new variable called raw values method 2, in order to use it for plotting.\n",
    "    model_inputs=df['Decay'][:-2]\n",
    "    \n",
    "    #applying the linregress function from scipy package to get a best fit curve and slope values between inputs for the model (Decay) and volume contributions\n",
    "    res_method2=linregress(model_inputs, volumes)\n",
    "    \n",
    "    #Curve fit method will allow us to build a function for the y-line. We assume that the relationship between x and y is linear (based on the shape of the above)\n",
    "    def func_m2(x, a, b):\n",
    "        return a*x + b\n",
    "    \n",
    "    #Returns: popt : array Optimal values for the parameters so that the sum of the squared residuals of f(xdata, *popt) - ydata is minimized. \n",
    "    #pcov : 2d array The estimated covariance of popt. \n",
    "    popt, pcov = curve_fit(func_m2, model_inputs, volumes)\n",
    "    #defining a and b. a is the slope of the fitted curve and b is the intercept.\n",
    "    a, b = popt\n",
    "    \n",
    "    #fitting the y line function based on the newly defined a and b\n",
    "    y_line = func_m2(np.array(model_inputs), a, b)\n",
    "    \n",
    "    #UNCOMMENT THIS IF YOU'D LIKE TO PLOT THE RELATIONSHIP\n",
    "    #overlap the scatter plot with the fitted curve\n",
    "    #plot the response curves using Raw values and Volume contributions\n",
    "    plt.scatter(model_inputs,volumes, label=channel)\n",
    "    plt.plot(model_inputs,y_line, label = 'fitted',  color=\"red\") #the inputs are the decay values\n",
    "\n",
    "    plt.xlabel('Transformed input variable (after lag, dim_returns and decay)')\n",
    "    plt.ylabel(f'Volume contributions for {channel}')\n",
    "\n",
    "    plt.ticklabel_format(style='plain')    # to prevent scientific notation.\n",
    "    plt.legend(bbox_to_anchor=(1.05, 1.0), loc='upper left')\n",
    "    return print(f'R2 value is {res_method2[2]**2}'), a,b, print(f\"The fitted curve for {channel} volumes is Y_volume_{channel}={a}*X_model_input(Decay)+{b}\"), plt.legend()\n",
    "\n",
    "    "
   ]
  },
  {
   "cell_type": "code",
   "execution_count": 19,
   "metadata": {},
   "outputs": [],
   "source": [
    "#This function is for creating a function that would only generate the first few columns which include the Decay column\n",
    "#We don't currently use this function often, but it is useful in certain situations where we only require to create transformations as far as the Decay column\n",
    "def get_decay(df):\n",
    "    #create another column for Lag that will shift the rows for the 'Raw' column by 'lag' number of rows\n",
    "    df.loc[:,'Lag']=df.loc[:,'Raw'].shift(lag).ffill()\n",
    "    #setting max)lag based on historical data\n",
    "    #max_lag=get_max_lag(df)\n",
    "    #selecting if it's TV or partnerships\n",
    "    \n",
    "    if channel in ['Partnership', 'TV 2017', 'TV 2018', 'B&D']:\n",
    "        #create another column for Diminishing returns that will calculate the values based on the formula (1-exp(-dim_returns*Lag))\n",
    "        for row in range(0,len(df.index)):\n",
    "            df.loc[row,'Diminishing Returns']=(((df.loc[row,'Lag'])/((max_lag/100)))**gamma)/((((df.loc[row,'Lag'])/((max_lag/100)))**gamma)+(saturation**gamma))\n",
    "    else:\n",
    "        #create another column for Diminishing returns that will calculate the values based on the formula (1-exp(-dim_returns*Lag))\n",
    "        df['Diminishing Returns']=(1.0-np.exp(-df['Lag']/dim_returns))\n",
    "\n",
    "    #remove all nans and replace with zeroes\n",
    "    df=df.fillna(0)\n",
    "\n",
    "    #create another column for Decay that will calculate the values based on the formula: Decay[row]=Decay[row-1]*(1-decay/100)+Diminishing returns[row]\n",
    "    df.loc[0, 'Decay']=df['Diminishing Returns'][0]\n",
    "    for row in range(1,len(df.index)):\n",
    "        df.loc[row, 'Decay']=df['Decay'][row-1]*(1-decay/100)+df['Diminishing Returns'][row]\n",
    "  \n",
    "    return df"
   ]
  },
  {
   "cell_type": "markdown",
   "metadata": {},
   "source": [
    "<span style=\"color:blue\">With this function, we will compute the A and B coefficients of the line that describes the linear relationship of obtaintaing volume contributions from \"Decay\" and \"Raw\" values </span>\n",
    "\n",
    "We use these A and B coefficients to generate our own volume contributions, without the need to have the model prediction values Y. So we're essentially using this linear relationship between the transformed input variable and volume to check whether we can estimate the volume contributions without having to compute % change based on total volume of sales."
   ]
  },
  {
   "cell_type": "code",
   "execution_count": 20,
   "metadata": {},
   "outputs": [],
   "source": [
    "#creating a function that would only generate the first few columns which include the Decay column\n",
    "def get_decay_and_fitted_volume_contrib(df):\n",
    "    #create another column for Lag that will shift the rows for the 'Raw' column by 'lag' number of rows\n",
    "    df.loc[:,'Lag']=df.loc[:,'Raw'].shift(lag).ffill()\n",
    "    #setting max)lag based on historical data\n",
    "    #max_lag=get_max_lag(df)\n",
    "    #selecting if it's TV or partnerships\n",
    "    \n",
    "    if channel in ['Partnership', 'TV 2017', 'TV 2018', 'B&D']:\n",
    "        #create another column for Diminishing returns that will calculate the values based on the formula (1-exp(-dim_returns*Lag))\n",
    "        for row in range(0,len(df.index)):\n",
    "            df.loc[row,'Diminishing Returns']=(((df.loc[row,'Lag'])/((max_lag/100)))**gamma)/((((df.loc[row,'Lag'])/((max_lag/100)))**gamma)+(saturation**gamma))\n",
    "    else:\n",
    "        #create another column for Diminishing returns that will calculate the values based on the formula (1-exp(-dim_returns*Lag))\n",
    "        df['Diminishing Returns']=(1.0-np.exp(-df['Lag']/dim_returns))\n",
    "\n",
    "    #remove all nans and replace with zeroes\n",
    "    df=df.fillna(0)\n",
    "\n",
    "    #create another column for Decay that will calculate the values based on the formula: Decay[row]=Decay[row-1]*(1-decay/100)+Diminishing returns[row]\n",
    "    df.loc[0, 'Decay']=df['Diminishing Returns'][0]\n",
    "    for row in range(1,len(df.index)):\n",
    "        df.loc[row, 'Decay']=df['Decay'][row-1]*(1-decay/100)+df['Diminishing Returns'][row]\n",
    "    \n",
    "    df.loc[:,'Volume contributions']=df.loc[:,'Decay']*a+b\n",
    "    return df"
   ]
  },
  {
   "cell_type": "markdown",
   "metadata": {},
   "source": [
    "Using the above function, the below one does the extra step of simulating through various raw values, transforming the raw values into model inputs, and applies the linear relationship coefficients to predict volume contributions."
   ]
  },
  {
   "cell_type": "code",
   "execution_count": 21,
   "metadata": {},
   "outputs": [],
   "source": [
    "#simulating using the fitted coefficients\n",
    "def simulate_rev_contributions_with_fitted_coefficients(df,min_limit, max_limit, step_size):\n",
    "    \n",
    "    \n",
    "    #simulating the different predicted volume contributions (based on fitted curve that we derived):\n",
    "    raw_values=[]\n",
    "    revenue_contrib=[]\n",
    "    \n",
    "    #setting max)lag based on historical data (before running this function)\n",
    "\n",
    "    #defining a loop that will iterate through various numbers and simulate the inputs and volumes\n",
    "    #fill the 'Raw' column with zero values\n",
    "    df['Raw'].values[:]=0\n",
    "    for i in range(min_limit, max_limit, step_size):\n",
    "\n",
    "        #apending the raw_values with the i value\n",
    "        raw_values.append(i)\n",
    "        #Replacing first Raw value with 1000 as a test\n",
    "        df['Raw'][0]=i\n",
    "\n",
    "        #use previously defined function to get all columns\n",
    "        df=get_decay_and_fitted_volume_contrib(df)\n",
    "        revenue_contrib.append((df['Volume contributions']*(get_weighted_average_price(channel))).sum())\n",
    "        \n",
    "    #plot the response curves using Raw values and Volume contributions\n",
    "    plt.plot(np.array(raw_values)/impressions_per_pound,revenue_contrib, label=channel+\" fitted coeff\")\n",
    "\n",
    "    plt.xlabel('Raw values Spend')\n",
    "    plt.ylabel(f'{channel} contribution to revenue')\n",
    "    plt.xticks(rotation=45)\n",
    "\n",
    "    plt.ticklabel_format(style='plain')    # to prevent scientific notation.\n",
    "    plt.legend(bbox_to_anchor=(1.05, 1.0), loc='upper left')\n",
    "    return plt.legend()"
   ]
  },
  {
   "cell_type": "markdown",
   "metadata": {},
   "source": [
    "### Results for fitting linear relationships for each channel \n",
    "<br> The fitted curve for FB volumes is Y_volume_FB=140733.48603328745* X_model_input(Decay)+-346.9166082582542\n",
    "<br> The fitted curve for Partnership volumes is Y_volume_Partnership=150916.77453607638* X_model_input(Decay)+1956.775500303672\n",
    "<br> The fitted curve for Cinema volumes is Y_volume_Cinema=148839.8423502507* X_model_input(Decay)+76.80801873416658\n",
    "<br> The fitted curve for Youtube volumes is Y_volume_Youtube=9688.937824636192* X_model_input(Decay)+-14.438753754923596\n",
    "<br> The fitted curve for B&D volumes is Y_volume_B&D=77870.82628800542* X_model_input(Decay)+-55.69810867679644\n",
    "<br> The fitted curve for Radio volumes is Y_volume_Radio=37660.45024218594* X_model_input(Decay)+-4.6306161320528645\n",
    "<br> The fitted curve for PVID & BVOD volumes is Y_volume_PVID & BVOD=36017.00922043758* X_model_input(Decay)+-117.04570293226789\n",
    "<br> The fitted curve for Print volumes is Y_volume_Print=213733.39328286887* X_model_input(Decay)+309.4359182569814\n",
    "<br> The fitted curve for TV 2017 volumes is Y_volume_TV 2017=102026.71615953592* X_model_input(Decay)+-57.25562583712724\n",
    "<br> The fitted curve for TV 2018 volumes is Y_volume_TV 2018=-1.681574445255678* X_model_input(Decay)+4.0651650605816245"
   ]
  },
  {
   "cell_type": "markdown",
   "metadata": {},
   "source": [
    "# Chapter 3: Plotting response curves with fitted coefficients  <a name=\"Chapter3\"></a>\n",
    "### Final script for generating response curves for each channel \n",
    "Once all the above functions are all run, we can simply run the below in order to retrieve the coefficients for the fitted curves and plot the response curves for each individual channel. By running this block of code, we will be prompted to input the desired channel. However, if an iterative prcoess is desired, we would have to replace the input with a for loop that iterates through the list of desired channels."
   ]
  },
  {
   "cell_type": "code",
   "execution_count": 22,
   "metadata": {},
   "outputs": [
    {
     "name": "stdout",
     "output_type": "stream",
     "text": [
      "Enter Media Channel:\n",
      "PVID & BVOD\n",
      "R2 value is 0.9962050837817108\n",
      "The fitted curve for PVID & BVOD volumes is Y_volume_PVID & BVOD=36017.00922043758*X_model_input(Decay)+-117.04570293226789\n"
     ]
    },
    {
     "data": {
      "text/plain": [
       "<matplotlib.legend.Legend at 0x25416037430>"
      ]
     },
     "execution_count": 22,
     "metadata": {},
     "output_type": "execute_result"
    },
    {
     "data": {
      "image/png": "[encoded data removed]",
      "text/plain": [
       "<Figure size 432x288 with 1 Axes>"
      ]
     },
     "metadata": {
      "needs_background": "light"
     },
     "output_type": "display_data"
    }
   ],
   "source": [
    "#final sequence of functions:\n",
    "print('Enter Media Channel:')\n",
    "#enter channel\n",
    "channel=input()\n",
    "\n",
    "#import the excel of the Y values\n",
    "df_Y=pd.read_excel(r'Fosters\\Model prediction Y.xlsx',sheet_name='Model predictions')\n",
    "#import the excel of the model coefficients\n",
    "model_coefficients=pd.read_excel(r'Fosters\\Fosters Model - Decomposition - Raw TV.xlsx',sheet_name='Model Coefficients')\n",
    "#Removing the current names of the columns and replacing with the first row as n ames of the columns. \n",
    "model_coefficients=model_coefficients.rename(columns=model_coefficients.iloc[0])[1:]\n",
    "\n",
    "#import the excel of the Raw data for all channels\n",
    "df_excel=pd.read_excel(r'Fosters\\Fosters Model - Decomposition - Raw TV.xlsx',sheet_name=f'Media Laydown - {channel}')\n",
    "df=df_excel.copy()\n",
    "\n",
    "#import the sheet relatedc to volume contributions\n",
    "volume_contributions=pd.read_excel(r'Fosters\\Fosters Model - Decomposition - Raw TV.xlsx',sheet_name='Final Volume Contributions')\n",
    "\n",
    "#determine whether the variable from the model is already taken as \"Spend\" or as \"Impressions/Admissions/Impacts\"\n",
    "#If it's impressions, then the impressions per pound will need to be computed based on the two columns of data (Spend vs Impressions) as this will be needed for later transformations\n",
    "x=model_coefficients['Variables'][int(model_coefficients[model_coefficients['Variables'].str.contains(channel)].index.values)]\n",
    "# if \"Spend\" in x:\n",
    "#     raw_metric='Spend'\n",
    "#     impressions_per_pound=1 #setting to one, as it won't affect the Raw column if divided by 1 later on. This means there is no need for further transformation on X axis of the response curve\n",
    "# else:\n",
    "#     raw_metric='Impressions'\n",
    "#     impressions_per_pound=(df.filter(regex=channel))\n",
    "#     impressions_per_pound=sum(impressions_per_pound.iloc[:,1])/sum(impressions_per_pound.iloc[:,0])\n",
    "if \"Spend\" in x:\n",
    "    raw_metric='Spend'\n",
    "    impressions_per_pound=1 #setting to one, as it won't affect the Raw column if divided by 1 later on. This means there is no need for further transformation on X axis of the response curve\n",
    "elif 'Admissions' in x:\n",
    "    raw_metric='Admissions'\n",
    "    impressions_per_pound=(df.filter(regex=channel))\n",
    "    impressions_per_pound=sum(impressions_per_pound.iloc[:,1])/sum(impressions_per_pound.iloc[:,0])       \n",
    "elif 'TVR' in x:\n",
    "    raw_metric='TVR'\n",
    "    impressions_per_pound=(df.filter(regex=channel))\n",
    "    impressions_per_pound=sum(impressions_per_pound.iloc[:,1])/sum(impressions_per_pound.iloc[:,0])\n",
    "else:\n",
    "    raw_metric='Impressions'\n",
    "    impressions_per_pound=(df.filter(regex=channel))\n",
    "    impressions_per_pound=sum(impressions_per_pound.iloc[:,1])/sum(impressions_per_pound.iloc[:,0])\n",
    "\n",
    "#getting the value of the coefficient for the channel we are looking for\n",
    "channel_coeff=get_model_coefficient(channel)\n",
    "\n",
    "#The below function would be for extracting the values for lag, decay, diminishing returns, and for TV: saturation and gamma.  Diminishing returns will be calculated based on Max value in the raw column. \n",
    "\n",
    "#run the function\n",
    "df=get_main_dataframe(channel)\n",
    "max_lag=get_max_lag(df)\n",
    "#extracting the lag, decay, diminishing returns values. for all TV, they will have to go through and IF function to extract saturation and gamma:\n",
    "lag=lag_values.get(channel)\n",
    "decay=decay_values.get(channel)\n",
    "list1=[\"Partnership\", \"TV 2017\",\"TV 2018\", \"B&D\"]\n",
    "if channel in list1:\n",
    "    saturation=saturation_values.get(channel)\n",
    "    gamma=gamma_values.get(channel)\n",
    "else:\n",
    "    dim_returns=(diminishing_returns_values.get(channel))*max(df['Raw'])\n",
    "\n",
    "#creating a separation of min_value, max_value and sep size depending on impressions_per_pound value, in order to reduce response times for the code\n",
    "if impressions_per_pound>35:\n",
    "    VWAP = get_weighted_average_price(channel)\n",
    "    #simulate_rev_contributions_with_model_coefficients(df,1,100000000, 500000)\n",
    "\n",
    "\n",
    "    a_b_coefficients=get_spend_to_volume_coefficients(channel)\n",
    "\n",
    "\n",
    "    #assigning slope to variable \"a\" and intercept to variable \"b\"\n",
    "    a=a_b_coefficients[1]\n",
    "    b=a_b_coefficients[2]\n",
    "\n",
    "    simulate_rev_contributions_with_fitted_coefficients(df,1,100000000, 500000)\n",
    "\n",
    "elif impressions_per_pound>0.01 and impressions_per_pound<35: \n",
    "    VWAP = get_weighted_average_price(channel)\n",
    "    #simulate_rev_contributions_with_model_coefficients(df,1,10000, 100)\n",
    "\n",
    "\n",
    "    a_b_coefficients=get_spend_to_volume_coefficients(channel)\n",
    "\n",
    "\n",
    "    #assigning slope to variable \"a\" and intercept to variable \"b\"\n",
    "    a=a_b_coefficients[1]\n",
    "    b=a_b_coefficients[2]\n",
    "\n",
    "    simulate_rev_contributions_with_fitted_coefficients(df,1,1000000, 5000)\n",
    "else:\n",
    "    VWAP = get_weighted_average_price(channel)\n",
    "    #simulate_rev_contributions_with_model_coefficients(df,1,300, 2)\n",
    "\n",
    "\n",
    "    a_b_coefficients=get_spend_to_volume_coefficients(channel)\n",
    "\n",
    "\n",
    "    #assigning slope to variable \"a\" and intercept to variable \"b\"\n",
    "    a=a_b_coefficients[1]\n",
    "    b=a_b_coefficients[2]\n",
    "\n",
    "    simulate_rev_contributions_with_fitted_coefficients(df,1,300, 2)\n",
    "    "
   ]
  },
  {
   "cell_type": "markdown",
   "metadata": {},
   "source": [
    "###### Method attempted but did not work: \n",
    "We tried implimenting this process of generating the response curve via all the steps of fitting the curve coefficients, however there are many variables that need to be defined in order for the function to run properly, so we will stick to the above method instead."
   ]
  },
  {
   "cell_type": "code",
   "execution_count": 23,
   "metadata": {},
   "outputs": [],
   "source": [
    "#this is the function that will run all the final functions together in order to get the response curve for each channel by fitting the curve from model coefficients. This function will not work if the channel_coefficient is not defined in advance\n",
    "def get_response_curve_from_refitting_coefficients(channel):\n",
    "#     #final sequence of functions:\n",
    "#     print('Enter Media Channel:')\n",
    "#     #enter channel\n",
    "#     channel=input()\n",
    "    #import the excel of the Y values\n",
    "    df_Y=pd.read_excel(r'Fosters\\Model prediction Y.xlsx',sheet_name='Model predictions')\n",
    "    #import the excel of the model coefficients\n",
    "    model_coefficients=pd.read_excel(r'Fosters\\Fosters Model - Decomposition - Raw TV.xlsx',sheet_name='Model Coefficients')\n",
    "    #Removing the current names of the columns and replacing with the first row as n ames of the columns. \n",
    "    model_coefficients=model_coefficients.rename(columns=model_coefficients.iloc[0])[1:]\n",
    "\n",
    "    #import the excel of the Raw data for all channels\n",
    "    df_excel=pd.read_excel(r'Fosters\\Fosters Model - Decomposition - Raw TV.xlsx',sheet_name=f'Media Laydown - {channel}')\n",
    "    df=df_excel.copy()\n",
    "\n",
    "    #import the sheet relatedc to volume contributions\n",
    "    volume_contributions=pd.read_excel(r'Fosters\\Fosters Model - Decomposition - Raw TV.xlsx',sheet_name='Final Volume Contributions')\n",
    "\n",
    "    #determine whether the variable from the model is already taken as \"Spend\" or as \"Impressions/Admissions/Impacts\"\n",
    "    #If it's impressions, then the impressions per pound will need to be computed based on the two columns of data (Spend vs Impressions) as this will be needed for later transformations\n",
    "    x=model_coefficients['Variables'][int(model_coefficients[model_coefficients['Variables'].str.contains(channel)].index.values)]\n",
    "    if \"Spend\" in x:\n",
    "        raw_metric='Spend'\n",
    "        impressions_per_pound=1 #setting to one, as it won't affect the Raw column if divided by 1 later on. This means there is no need for further transformation on X axis of the response curve\n",
    "    else:\n",
    "        raw_metric='Impressions'\n",
    "        impressions_per_pound=(df.filter(regex=channel))\n",
    "        impressions_per_pound=sum(impressions_per_pound.iloc[:,1])/sum(impressions_per_pound.iloc[:,0])\n",
    "\n",
    "    #getting the value of the coefficient for the channel we are looking for\n",
    "    channel_coeff=get_model_coefficient(channel)\n",
    "\n",
    "    #The below function would be for extracting the values for lag, decay, diminishing returns, and for TV: saturation and gamma.  Diminishing returns will be calculated based on Max value in the raw column. \n",
    "\n",
    "    #run the function\n",
    "    df=get_main_dataframe(channel)\n",
    "    max_lag=get_max_lag(df)\n",
    "    #extracting the lag, decay, diminishing returns values. for all TV, they will have to go through and IF function to extract saturation and gamma:\n",
    "    lag=lag_values.get(channel)\n",
    "    decay=decay_values.get(channel)\n",
    "    list1=[\"Partnership\", \"TV 2017\",\"TV 2018\", \"B&D\"]\n",
    "    if channel in list1:\n",
    "        saturation=saturation_values.get(channel)\n",
    "        gamma=gamma_values.get(channel)\n",
    "    else:\n",
    "        dim_returns=(diminishing_returns_values.get(channel))*max(df['Raw'])\n",
    "\n",
    "    #creating a separation of min_value, max_value and sep size depending on impressions_per_pound value, in order to reduce response times for the code\n",
    "    if impressions_per_pound>35:\n",
    "        VWAP = get_weighted_average_price(channel)\n",
    "        #simulate_rev_contributions_with_model_coefficients(df,1,100000000, 500000)\n",
    "\n",
    "\n",
    "        a_b_coefficients=get_spend_to_volume_coefficients(channel)\n",
    "\n",
    "\n",
    "        #assigning slope to variable \"a\" and intercept to variable \"b\"\n",
    "        a=a_b_coefficients[1]\n",
    "        b=a_b_coefficients[2]\n",
    "\n",
    "        simulate_rev_contributions_with_fitted_coefficients(df,1,100000000, 500000)\n",
    "\n",
    "    elif impressions_per_pound>0.01 and impressions_per_pound<35: \n",
    "        VWAP = get_weighted_average_price(channel)\n",
    "        #simulate_rev_contributions_with_model_coefficients(df,1,10000, 100)\n",
    "\n",
    "\n",
    "        a_b_coefficients=get_spend_to_volume_coefficients(channel)\n",
    "\n",
    "\n",
    "        #assigning slope to variable \"a\" and intercept to variable \"b\"\n",
    "        a=a_b_coefficients[1]\n",
    "        b=a_b_coefficients[2]\n",
    "\n",
    "        simulate_rev_contributions_with_fitted_coefficients(df,1,1000000, 5000)\n",
    "    else:\n",
    "        VWAP = get_weighted_average_price(channel)\n",
    "        #simulate_rev_contributions_with_model_coefficients(df,1,300, 2)\n",
    "\n",
    "\n",
    "        a_b_coefficients=get_spend_to_volume_coefficients(channel)\n",
    "\n",
    "\n",
    "        #assigning slope to variable \"a\" and intercept to variable \"b\"\n",
    "        a=a_b_coefficients[1]\n",
    "        b=a_b_coefficients[2]\n",
    "\n",
    "        simulate_rev_contributions_with_fitted_coefficients(df,1,300, 2)\n",
    "    return "
   ]
  },
  {
   "cell_type": "code",
   "execution_count": 24,
   "metadata": {
    "scrolled": true
   },
   "outputs": [
    {
     "name": "stdout",
     "output_type": "stream",
     "text": [
      "R2 value is 0.9962050837817108\n",
      "The fitted curve for PVID & BVOD volumes is Y_volume_PVID & BVOD=36017.00922043758*X_model_input(Decay)+-117.04570293226789\n"
     ]
    },
    {
     "data": {
      "image/png": "[encoded data removed]",
      "text/plain": [
       "<Figure size 432x288 with 1 Axes>"
      ]
     },
     "metadata": {
      "needs_background": "light"
     },
     "output_type": "display_data"
    }
   ],
   "source": [
    "get_response_curve_from_refitting_coefficients(channel)"
   ]
  },
  {
   "cell_type": "code",
   "execution_count": 25,
   "metadata": {},
   "outputs": [],
   "source": [
    "# simulate_rev_contributions_with_model_coefficients(df,1, 300, 1)\n",
    "# simulate_rev_contributions_with_fitted_coefficients(df,1, 300, 1)"
   ]
  },
  {
   "cell_type": "markdown",
   "metadata": {},
   "source": [
    "# Chapter 4 : Generating final arrays of Spend vs revenue  <a name=\"Chapter4\"></a>"
   ]
  },
  {
   "cell_type": "markdown",
   "metadata": {},
   "source": [
    "Generating the response curve, and creating an array of Raw values versus Revenue contributions. We convert all Raw values (if they are measured in impressions) back to Spend, and we convert volume contributions into revenue contributions. We plot the respective response curves. This is our final desired output."
   ]
  },
  {
   "cell_type": "markdown",
   "metadata": {},
   "source": [
    "To kickstart this process, we must get the main dataframe for the respective channel (in order to ensure that all the variables llike lag, dim_returns, decay are appropriate)."
   ]
  },
  {
   "cell_type": "code",
   "execution_count": 26,
   "metadata": {},
   "outputs": [],
   "source": [
    "df=get_main_dataframe(channel)"
   ]
  },
  {
   "cell_type": "code",
   "execution_count": 27,
   "metadata": {},
   "outputs": [],
   "source": [
    "def get_final_response_curve(channel):\n",
    "    df=get_main_dataframe(channel)\n",
    "    #simulating the different predicted volume contributions (based on fitted curve that we derived):\n",
    "    raw_values=[]\n",
    "    revenue_contrib=[]\n",
    "\n",
    "   \n",
    "    #defining a loop that will iterate through various numbers and simulate the inputs and volumes\n",
    "    #fill the 'Raw' column with zero values\n",
    "    df['Raw'].values[:]=0\n",
    "    #we split the impression per pound depending on value, so that the code iterates faster. Otherwise we could just let it run for 1000000 iterations.\n",
    "    if impressions_per_pound <0.001:\n",
    "        i=1\n",
    "        while (i/impressions_per_pound) <=1000000:\n",
    "            raw_values.append(i/impressions_per_pound)\n",
    "            #Replacing first Raw value with 1000 as a test\n",
    "            df['Raw'][0]=i\n",
    "\n",
    "            #use previously defined function to get all columns\n",
    "            df=get_decay_and_fitted_volume_contrib(df)\n",
    "            revenue_contrib.append((df['Volume contributions']*(get_weighted_average_price(channel))).sum())\n",
    "            i+=1\n",
    "    elif impressions_per_pound<50 and impressions_per_pound>0.001:\n",
    "        i=1\n",
    "        while (i/impressions_per_pound) <=1000000:\n",
    "            raw_values.append(i/impressions_per_pound)\n",
    "            #Replacing first Raw value with 1000 as a test\n",
    "            df['Raw'][0]=i\n",
    "\n",
    "            #use previously defined function to get all columns\n",
    "            df=get_decay_and_fitted_volume_contrib(df)\n",
    "            revenue_contrib.append((df['Volume contributions']*(get_weighted_average_price(channel))).sum())\n",
    "            i+=50000\n",
    "    elif impressions_per_pound>50 and impressions_per_pound<500:\n",
    "        i=1\n",
    "        while (i/impressions_per_pound) <=1000000:\n",
    "            raw_values.append(i/impressions_per_pound)\n",
    "            #Replacing first Raw value with 1000 as a test\n",
    "            df['Raw'][0]=i\n",
    "\n",
    "            #use previously defined function to get all columns\n",
    "            df=get_decay_and_fitted_volume_contrib(df)\n",
    "            revenue_contrib.append((df['Volume contributions']*(get_weighted_average_price(channel))).sum())\n",
    "            i+=500000\n",
    "    else: \n",
    "        i=1\n",
    "        while (i/impressions_per_pound) <=1000000:\n",
    "            raw_values.append(i/impressions_per_pound)\n",
    "            #Replacing first Raw value with 1000 as a test\n",
    "            df['Raw'][0]=i\n",
    "\n",
    "            #use previously defined function to get all columns\n",
    "            df=get_decay_and_fitted_volume_contrib(df)\n",
    "            revenue_contrib.append((df['Volume contributions']*(get_weighted_average_price(channel))).sum())\n",
    "            i+=5000000\n",
    "    #plot the response curves using Raw values and Volume contributions\n",
    "#     plt.plot(raw_values,revenue_contrib, label=channel+\" fitted coeff\")\n",
    "\n",
    "#     plt.xlabel('Raw values Spend')\n",
    "#     plt.xticks(rotation=45)\n",
    "#     plt.ylabel(f'{channel} contribution to revenue')\n",
    "\n",
    "#     plt.ticklabel_format(style='plain')    # to prevent scientific not\n",
    "#     plt.legend()\n",
    "    res=[raw_values, revenue_contrib]\n",
    "    return res\n",
    "    "
   ]
  },
  {
   "cell_type": "code",
   "execution_count": 35,
   "metadata": {},
   "outputs": [],
   "source": [
    "# version of the same function to generate more points for the curves:\n",
    "def get_final_response_curve(channel):\n",
    "    df=get_main_dataframe(channel)\n",
    "    #simulating the different predicted volume contributions (based on fitted curve that we derived):\n",
    "    raw_values=[]\n",
    "    revenue_contrib=[]\n",
    "\n",
    "   \n",
    "    #defining a loop that will iterate through various numbers and simulate the inputs and volumes\n",
    "    #fill the 'Raw' column with zero values\n",
    "    df['Raw'].values[:]=0\n",
    "    #we split the impression per pound depending on value, so that the code iterates faster. Otherwise we could just let it run for 1000000 iterations.\n",
    "    if impressions_per_pound <0.001:\n",
    "        i=1\n",
    "        while (i/impressions_per_pound) <=1000000:\n",
    "            raw_values.append(i/impressions_per_pound)\n",
    "            #Replacing first Raw value with 1000 as a test\n",
    "            df['Raw'][0]=i\n",
    "\n",
    "            #use previously defined function to get all columns\n",
    "            df=get_decay_and_fitted_volume_contrib(df)\n",
    "            revenue_contrib.append((df['Volume contributions']*(get_weighted_average_price(channel))).sum())\n",
    "            i+=1\n",
    "#     elif impressions_per_pound<50 and impressions_per_pound>0.001:\n",
    "#         i=1\n",
    "#         while (i/impressions_per_pound) <=1000000:\n",
    "#             raw_values.append(i/impressions_per_pound)\n",
    "#             #Replacing first Raw value with 1000 as a test\n",
    "#             df['Raw'][0]=i\n",
    "\n",
    "#             #use previously defined function to get all columns\n",
    "#             df=get_decay_and_fitted_volume_contrib(df)\n",
    "#             revenue_contrib.append((df['Volume contributions']*(get_weighted_average_price(channel))).sum())\n",
    "#             i+=50000\n",
    "#     elif impressions_per_pound>50 and impressions_per_pound<500:\n",
    "#         i=1\n",
    "#         while (i/impressions_per_pound) <=1000000:\n",
    "#             raw_values.append(i/impressions_per_pound)\n",
    "#             #Replacing first Raw value with 1000 as a test\n",
    "#             df['Raw'][0]=i\n",
    "\n",
    "#             #use previously defined function to get all columns\n",
    "#             df=get_decay_and_fitted_volume_contrib(df)\n",
    "#             revenue_contrib.append((df['Volume contributions']*(get_weighted_average_price(channel))).sum())\n",
    "#             i+=500000\n",
    "    else: \n",
    "        i=1\n",
    "        while (i/impressions_per_pound) <=1000000:\n",
    "            raw_values.append(i/impressions_per_pound)\n",
    "            #Replacing first Raw value with 1000 as a test\n",
    "            df['Raw'][0]=i\n",
    "\n",
    "            #use previously defined function to get all columns\n",
    "            df=get_decay_and_fitted_volume_contrib(df)\n",
    "            revenue_contrib.append((df['Volume contributions']*(get_weighted_average_price(channel))).sum())\n",
    "            i+=5000\n",
    "    #plot the response curves using Raw values and Volume contributions\n",
    "#     plt.plot(raw_values,revenue_contrib, label=channel+\" fitted coeff\")\n",
    "\n",
    "#     plt.xlabel('Raw values Spend')\n",
    "#     plt.xticks(rotation=45)\n",
    "#     plt.ylabel(f'{channel} contribution to revenue')\n",
    "\n",
    "#     plt.ticklabel_format(style='plain')    # to prevent scientific not\n",
    "#     plt.legend()\n",
    "    res=[raw_values, revenue_contrib]\n",
    "    return res\n",
    "    "
   ]
  },
  {
   "cell_type": "markdown",
   "metadata": {},
   "source": [
    "For generating dataframe names, to facilitate storing the results, this function has been created to automate the process based on channel names"
   ]
  },
  {
   "cell_type": "code",
   "execution_count": 29,
   "metadata": {},
   "outputs": [],
   "source": [
    "#generate dataframe name for each channel so we can save results\n",
    "def generate_df_per_channel_name(channel):\n",
    "    name=f\"df_{channel}\"\n",
    "    name=name.replace(\"&\",\"\")\n",
    "    name=name.replace(\" \",\"_\")\n",
    "    if \"__\" in name:\n",
    "        name=name.replace(\"__\", \"_\")\n",
    "    else:\n",
    "        pass\n",
    "    return name"
   ]
  },
  {
   "cell_type": "markdown",
   "metadata": {},
   "source": [
    "# Chapter 5 : Validating the results  <a name=\"Chapter5\"></a>\n",
    "In order to validate our curves, we must cross-check our outputs with the ones that we can export from the Masster tool. \n",
    "We use the excel exports to look at the shape of the curves. "
   ]
  },
  {
   "cell_type": "markdown",
   "metadata": {},
   "source": [
    "We create a function that will be used for transforming the data and generating the weekly curves from the Masster exported data."
   ]
  },
  {
   "cell_type": "code",
   "execution_count": 30,
   "metadata": {},
   "outputs": [
    {
     "name": "stderr",
     "output_type": "stream",
     "text": [
      "C:\\Users\\avramd01.HEIWAY\\Anaconda3\\lib\\site-packages\\openpyxl\\styles\\stylesheet.py:221: UserWarning: Workbook contains no default style, apply openpyxl's default\n",
      "  warn(\"Workbook contains no default style, apply openpyxl's default\")\n"
     ]
    }
   ],
   "source": [
    "#import the data\n",
    "volume_contributions_2018_weekly=pd.read_excel(r'Fosters/Fosters - Cinema - Weekly - 2018.xlsx')"
   ]
  },
  {
   "cell_type": "code",
   "execution_count": 31,
   "metadata": {},
   "outputs": [],
   "source": [
    "#function for generating the weekly response curves\n",
    "def get_weekly_curves(volume_contributions_2018_weekly):\n",
    "    max_values=[]\n",
    "    #creating a loop that will check each column length in the dataframe and remove the irrelevant columns\n",
    "    new_df=volume_contributions_2018_weekly.copy()\n",
    "\n",
    "    #crate an empty list for columns to remove\n",
    "    list_cols_to_remove=[]\n",
    "    #iterate through each column of the df\n",
    "    for i in volume_contributions_2018_weekly.columns:\n",
    "        #crating a new list of elements within each column that is non NAN.\n",
    "        newlist = [x for x in volume_contributions_2018_weekly[f'{i}'] if np.isnan(x) == False]\n",
    "\n",
    "        #we count how many elements are in these new lists. We can observe from the excel that for any week where there is no investments, there are 3 rows of data still present, even if data=0\n",
    "        if len(newlist)<=3:\n",
    "            #append the list of columns to remove witht he name of the column that must be removed\n",
    "            list_cols_to_remove.append(i)\n",
    "        else:\n",
    "            continue\n",
    "\n",
    "    #We want to get the new dataframe with only the columns that have actually had market spend during those weeks\n",
    "    new_df=new_df.drop(columns=list_cols_to_remove)  \n",
    "    \n",
    "    \n",
    "    #Splitting the columns in X-columns (Spend) and Y columns (Incremental Sales)\n",
    "    x_cols = [col for col in new_df.columns if ':Spend' in col]\n",
    "    y_cols = [col for col in new_df.columns if ':Incremental Sales' in col]\n",
    "    \n",
    "    #plotting first column of X-columns list against first column of Y-column list\n",
    "    for col in range(len(x_cols)):\n",
    "        plt.plot(new_df[x_cols[col]],new_df[y_cols[col]], label=f'{x_cols[col]}')\n",
    "        max_values.append(max(new_df[y_cols[col]])) #we add this step as we use it to test against our generated curves\n",
    "\n",
    "    plt.xlabel('Weekly raw values Spend (£)')\n",
    "    plt.xticks(rotation=45)\n",
    "    plt.ylabel(f'{channel} contribution to revenue (£)')\n",
    "\n",
    "    plt.ticklabel_format(style='plain')    # to prevent scientific not\n",
    "    plt.legend(bbox_to_anchor=(1.05, 1.0), loc='upper left')\n",
    "    return print(f'Max Value on the curve is {max(max_values)}'), plt.show()"
   ]
  },
  {
   "cell_type": "markdown",
   "metadata": {},
   "source": [
    "Example of testing the shape of the curves for Cinema:"
   ]
  },
  {
   "cell_type": "code",
   "execution_count": 32,
   "metadata": {
    "scrolled": true
   },
   "outputs": [
    {
     "name": "stdout",
     "output_type": "stream",
     "text": [
      "2018 Cinema weekly curves\n",
      "Max Value on the curve is 316295.6416977646\n"
     ]
    },
    {
     "data": {
      "image/png": "[encoded data removed]",
      "text/plain": [
       "<Figure size 432x288 with 1 Axes>"
      ]
     },
     "metadata": {
      "needs_background": "light"
     },
     "output_type": "display_data"
    },
    {
     "data": {
      "text/plain": [
       "(None, None)"
      ]
     },
     "execution_count": 32,
     "metadata": {},
     "output_type": "execute_result"
    }
   ],
   "source": [
    "#plot the weekly Graphs for Cinema:\n",
    "volume_contributions_2018_weekly=pd.read_excel(r'Fosters/Fosters - Cinema - Weekly - 2018.xlsx')\n",
    "\n",
    "#the title of the graph will need to be amended each time\n",
    "print(\"2018 Cinema weekly curves\")\n",
    "get_weekly_curves(volume_contributions_2018_weekly)"
   ]
  },
  {
   "cell_type": "markdown",
   "metadata": {},
   "source": [
    "The shapes of the weekly curves are fairly similar, if not matching exactly, and therefore we can conclude that our process of generating weekly response curves is accurate and can be applied accross other brands too, provided other brands have an MMM model with similar variable inputs"
   ]
  },
  {
   "cell_type": "markdown",
   "metadata": {},
   "source": [
    "# Chapter 6: Storing the results  <a name=\"Chapter6\"></a>\n",
    "### Writing the resulting dataframes of Spend vs Revenue in Excel for each channel to replicate the curves faster.\n",
    "\n",
    "This Chapter will generate arrays of points for each channel in the \"channel_list\" list. This step is useful as we can then use these arrays to fit the functions that convert spend into revenue without having to re-run the previous codes. \n",
    "This steps is also useful as we can then use the excel output and feed it into the web app for faster processing.\n",
    "\n",
    "Also, if the MMM model changes at any stage, or the user would like to re-generate the curves' fitted coefficients at a more granular level (more points to fit the curve), the above code could be easily amended by amending the simulation functions and decrease the step size:\n",
    "\n",
    "simulate_rev_contributions_with_fitted_coefficients(df,1,100000000, 500000) -> simulate_rev_contributions_with_fitted_coefficients(df,1,100000000, 5000)\n",
    "\n",
    "Otherwise, if the model doesn't change, and no changes are required to the number of points used for fitting the curves, the current version of the excel can be used."
   ]
  },
  {
   "cell_type": "code",
   "execution_count": 36,
   "metadata": {},
   "outputs": [
    {
     "name": "stdout",
     "output_type": "stream",
     "text": [
      "R2 value is 0.9977616864779502\n",
      "The fitted curve for B&D volumes is Y_volume_B&D=77870.82628800542*X_model_input(Decay)+-55.69810867679644\n",
      "R2 value is 0.9962050837817108\n",
      "The fitted curve for PVID & BVOD volumes is Y_volume_PVID & BVOD=36017.00922043758*X_model_input(Decay)+-117.04570293226789\n",
      "R2 value is 0.9895560665226278\n",
      "The fitted curve for FB volumes is Y_volume_FB=140733.48603328745*X_model_input(Decay)+-346.9166082582542\n"
     ]
    },
    {
     "name": "stderr",
     "output_type": "stream",
     "text": [
      "<ipython-input-35-2ee692558ece>:51: SettingWithCopyWarning: \n",
      "A value is trying to be set on a copy of a slice from a DataFrame\n",
      "\n",
      "See the caveats in the documentation: https://pandas.pydata.org/pandas-docs/stable/user_guide/indexing.html#returning-a-view-versus-a-copy\n",
      "  df['Raw'][0]=i\n"
     ]
    },
    {
     "name": "stdout",
     "output_type": "stream",
     "text": [
      "R2 value is 0.9978993534821475\n",
      "The fitted curve for Radio volumes is Y_volume_Radio=37660.45024218594*X_model_input(Decay)+-4.6306161320528645\n"
     ]
    },
    {
     "name": "stderr",
     "output_type": "stream",
     "text": [
      "<ipython-input-35-2ee692558ece>:51: SettingWithCopyWarning: \n",
      "A value is trying to be set on a copy of a slice from a DataFrame\n",
      "\n",
      "See the caveats in the documentation: https://pandas.pydata.org/pandas-docs/stable/user_guide/indexing.html#returning-a-view-versus-a-copy\n",
      "  df['Raw'][0]=i\n"
     ]
    },
    {
     "ename": "PermissionError",
     "evalue": "[Errno 13] Permission denied: 'Fosters\\\\Fosters Model - Decomposition - Raw TV.xlsx'",
     "output_type": "error",
     "traceback": [
      "\u001b[1;31m---------------------------------------------------------------------------\u001b[0m",
      "\u001b[1;31mPermissionError\u001b[0m                           Traceback (most recent call last)",
      "\u001b[1;32m<timed exec>\u001b[0m in \u001b[0;36m<module>\u001b[1;34m\u001b[0m\n",
      "\u001b[1;32m<ipython-input-35-2ee692558ece>\u001b[0m in \u001b[0;36mget_final_response_curve\u001b[1;34m(channel)\u001b[0m\n\u001b[0;32m     53\u001b[0m             \u001b[1;31m#use previously defined function to get all columns\u001b[0m\u001b[1;33m\u001b[0m\u001b[1;33m\u001b[0m\u001b[1;33m\u001b[0m\u001b[0m\n\u001b[0;32m     54\u001b[0m             \u001b[0mdf\u001b[0m\u001b[1;33m=\u001b[0m\u001b[0mget_decay_and_fitted_volume_contrib\u001b[0m\u001b[1;33m(\u001b[0m\u001b[0mdf\u001b[0m\u001b[1;33m)\u001b[0m\u001b[1;33m\u001b[0m\u001b[1;33m\u001b[0m\u001b[0m\n\u001b[1;32m---> 55\u001b[1;33m             \u001b[0mrevenue_contrib\u001b[0m\u001b[1;33m.\u001b[0m\u001b[0mappend\u001b[0m\u001b[1;33m(\u001b[0m\u001b[1;33m(\u001b[0m\u001b[0mdf\u001b[0m\u001b[1;33m[\u001b[0m\u001b[1;34m'Volume contributions'\u001b[0m\u001b[1;33m]\u001b[0m\u001b[1;33m*\u001b[0m\u001b[1;33m(\u001b[0m\u001b[0mget_weighted_average_price\u001b[0m\u001b[1;33m(\u001b[0m\u001b[0mchannel\u001b[0m\u001b[1;33m)\u001b[0m\u001b[1;33m)\u001b[0m\u001b[1;33m)\u001b[0m\u001b[1;33m.\u001b[0m\u001b[0msum\u001b[0m\u001b[1;33m(\u001b[0m\u001b[1;33m)\u001b[0m\u001b[1;33m)\u001b[0m\u001b[1;33m\u001b[0m\u001b[1;33m\u001b[0m\u001b[0m\n\u001b[0m\u001b[0;32m     56\u001b[0m             \u001b[0mi\u001b[0m\u001b[1;33m+=\u001b[0m\u001b[1;36m5000\u001b[0m\u001b[1;33m\u001b[0m\u001b[1;33m\u001b[0m\u001b[0m\n\u001b[0;32m     57\u001b[0m     \u001b[1;31m#plot the response curves using Raw values and Volume contributions\u001b[0m\u001b[1;33m\u001b[0m\u001b[1;33m\u001b[0m\u001b[1;33m\u001b[0m\u001b[0m\n",
      "\u001b[1;32m<ipython-input-14-26c327643b24>\u001b[0m in \u001b[0;36mget_weighted_average_price\u001b[1;34m(channel)\u001b[0m\n\u001b[0;32m     15\u001b[0m \u001b[1;32mdef\u001b[0m \u001b[0mget_weighted_average_price\u001b[0m\u001b[1;33m(\u001b[0m\u001b[0mchannel\u001b[0m\u001b[1;33m)\u001b[0m\u001b[1;33m:\u001b[0m\u001b[1;33m\u001b[0m\u001b[1;33m\u001b[0m\u001b[0m\n\u001b[0;32m     16\u001b[0m \u001b[1;33m\u001b[0m\u001b[0m\n\u001b[1;32m---> 17\u001b[1;33m     \u001b[0mvolumes\u001b[0m\u001b[1;33m=\u001b[0m\u001b[0mget_Masster_final_volume_contributions\u001b[0m\u001b[1;33m(\u001b[0m\u001b[0mchannel\u001b[0m\u001b[1;33m)\u001b[0m\u001b[1;33m\u001b[0m\u001b[1;33m\u001b[0m\u001b[0m\n\u001b[0m\u001b[0;32m     18\u001b[0m \u001b[1;33m\u001b[0m\u001b[0m\n\u001b[0;32m     19\u001b[0m     \u001b[1;31m#import the sheet related to prices\u001b[0m\u001b[1;33m\u001b[0m\u001b[1;33m\u001b[0m\u001b[1;33m\u001b[0m\u001b[0m\n",
      "\u001b[1;32m<ipython-input-14-26c327643b24>\u001b[0m in \u001b[0;36mget_Masster_final_volume_contributions\u001b[1;34m(channel)\u001b[0m\n\u001b[0;32m      2\u001b[0m \u001b[1;32mdef\u001b[0m \u001b[0mget_Masster_final_volume_contributions\u001b[0m\u001b[1;33m(\u001b[0m\u001b[0mchannel\u001b[0m\u001b[1;33m)\u001b[0m\u001b[1;33m:\u001b[0m\u001b[1;33m\u001b[0m\u001b[1;33m\u001b[0m\u001b[0m\n\u001b[0;32m      3\u001b[0m     \u001b[1;31m#import the sheet relatedc to volume contributions\u001b[0m\u001b[1;33m\u001b[0m\u001b[1;33m\u001b[0m\u001b[1;33m\u001b[0m\u001b[0m\n\u001b[1;32m----> 4\u001b[1;33m     \u001b[0mvolume_contributions\u001b[0m\u001b[1;33m=\u001b[0m\u001b[0mpd\u001b[0m\u001b[1;33m.\u001b[0m\u001b[0mread_excel\u001b[0m\u001b[1;33m(\u001b[0m\u001b[1;34mr'Fosters\\Fosters Model - Decomposition - Raw TV.xlsx'\u001b[0m\u001b[1;33m,\u001b[0m\u001b[0msheet_name\u001b[0m\u001b[1;33m=\u001b[0m\u001b[1;34m'Final Volume Contributions'\u001b[0m\u001b[1;33m)\u001b[0m\u001b[1;33m\u001b[0m\u001b[1;33m\u001b[0m\u001b[0m\n\u001b[0m\u001b[0;32m      5\u001b[0m \u001b[1;33m\u001b[0m\u001b[0m\n\u001b[0;32m      6\u001b[0m     \u001b[1;31m#Removing the current names of the columns and replacing with the first row as n ames of the columns.\u001b[0m\u001b[1;33m\u001b[0m\u001b[1;33m\u001b[0m\u001b[1;33m\u001b[0m\u001b[0m\n",
      "\u001b[1;32m~\\Anaconda3\\lib\\site-packages\\pandas\\util\\_decorators.py\u001b[0m in \u001b[0;36mwrapper\u001b[1;34m(*args, **kwargs)\u001b[0m\n\u001b[0;32m    297\u001b[0m                 )\n\u001b[0;32m    298\u001b[0m                 \u001b[0mwarnings\u001b[0m\u001b[1;33m.\u001b[0m\u001b[0mwarn\u001b[0m\u001b[1;33m(\u001b[0m\u001b[0mmsg\u001b[0m\u001b[1;33m,\u001b[0m \u001b[0mFutureWarning\u001b[0m\u001b[1;33m,\u001b[0m \u001b[0mstacklevel\u001b[0m\u001b[1;33m=\u001b[0m\u001b[0mstacklevel\u001b[0m\u001b[1;33m)\u001b[0m\u001b[1;33m\u001b[0m\u001b[1;33m\u001b[0m\u001b[0m\n\u001b[1;32m--> 299\u001b[1;33m             \u001b[1;32mreturn\u001b[0m \u001b[0mfunc\u001b[0m\u001b[1;33m(\u001b[0m\u001b[1;33m*\u001b[0m\u001b[0margs\u001b[0m\u001b[1;33m,\u001b[0m \u001b[1;33m**\u001b[0m\u001b[0mkwargs\u001b[0m\u001b[1;33m)\u001b[0m\u001b[1;33m\u001b[0m\u001b[1;33m\u001b[0m\u001b[0m\n\u001b[0m\u001b[0;32m    300\u001b[0m \u001b[1;33m\u001b[0m\u001b[0m\n\u001b[0;32m    301\u001b[0m         \u001b[1;32mreturn\u001b[0m \u001b[0mwrapper\u001b[0m\u001b[1;33m\u001b[0m\u001b[1;33m\u001b[0m\u001b[0m\n",
      "\u001b[1;32m~\\Anaconda3\\lib\\site-packages\\pandas\\io\\excel\\_base.py\u001b[0m in \u001b[0;36mread_excel\u001b[1;34m(io, sheet_name, header, names, index_col, usecols, squeeze, dtype, engine, converters, true_values, false_values, skiprows, nrows, na_values, keep_default_na, na_filter, verbose, parse_dates, date_parser, thousands, comment, skipfooter, convert_float, mangle_dupe_cols, storage_options)\u001b[0m\n\u001b[0;32m    334\u001b[0m     \u001b[1;32mif\u001b[0m \u001b[1;32mnot\u001b[0m \u001b[0misinstance\u001b[0m\u001b[1;33m(\u001b[0m\u001b[0mio\u001b[0m\u001b[1;33m,\u001b[0m \u001b[0mExcelFile\u001b[0m\u001b[1;33m)\u001b[0m\u001b[1;33m:\u001b[0m\u001b[1;33m\u001b[0m\u001b[1;33m\u001b[0m\u001b[0m\n\u001b[0;32m    335\u001b[0m         \u001b[0mshould_close\u001b[0m \u001b[1;33m=\u001b[0m \u001b[1;32mTrue\u001b[0m\u001b[1;33m\u001b[0m\u001b[1;33m\u001b[0m\u001b[0m\n\u001b[1;32m--> 336\u001b[1;33m         \u001b[0mio\u001b[0m \u001b[1;33m=\u001b[0m \u001b[0mExcelFile\u001b[0m\u001b[1;33m(\u001b[0m\u001b[0mio\u001b[0m\u001b[1;33m,\u001b[0m \u001b[0mstorage_options\u001b[0m\u001b[1;33m=\u001b[0m\u001b[0mstorage_options\u001b[0m\u001b[1;33m,\u001b[0m \u001b[0mengine\u001b[0m\u001b[1;33m=\u001b[0m\u001b[0mengine\u001b[0m\u001b[1;33m)\u001b[0m\u001b[1;33m\u001b[0m\u001b[1;33m\u001b[0m\u001b[0m\n\u001b[0m\u001b[0;32m    337\u001b[0m     \u001b[1;32melif\u001b[0m \u001b[0mengine\u001b[0m \u001b[1;32mand\u001b[0m \u001b[0mengine\u001b[0m \u001b[1;33m!=\u001b[0m \u001b[0mio\u001b[0m\u001b[1;33m.\u001b[0m\u001b[0mengine\u001b[0m\u001b[1;33m:\u001b[0m\u001b[1;33m\u001b[0m\u001b[1;33m\u001b[0m\u001b[0m\n\u001b[0;32m    338\u001b[0m         raise ValueError(\n",
      "\u001b[1;32m~\\Anaconda3\\lib\\site-packages\\pandas\\io\\excel\\_base.py\u001b[0m in \u001b[0;36m__init__\u001b[1;34m(self, path_or_buffer, engine, storage_options)\u001b[0m\n\u001b[0;32m   1078\u001b[0m                 \u001b[0mext\u001b[0m \u001b[1;33m=\u001b[0m \u001b[1;34m\"xls\"\u001b[0m\u001b[1;33m\u001b[0m\u001b[1;33m\u001b[0m\u001b[0m\n\u001b[0;32m   1079\u001b[0m             \u001b[1;32melse\u001b[0m\u001b[1;33m:\u001b[0m\u001b[1;33m\u001b[0m\u001b[1;33m\u001b[0m\u001b[0m\n\u001b[1;32m-> 1080\u001b[1;33m                 ext = inspect_excel_format(\n\u001b[0m\u001b[0;32m   1081\u001b[0m                     \u001b[0mcontent\u001b[0m\u001b[1;33m=\u001b[0m\u001b[0mpath_or_buffer\u001b[0m\u001b[1;33m,\u001b[0m \u001b[0mstorage_options\u001b[0m\u001b[1;33m=\u001b[0m\u001b[0mstorage_options\u001b[0m\u001b[1;33m\u001b[0m\u001b[1;33m\u001b[0m\u001b[0m\n\u001b[0;32m   1082\u001b[0m                 )\n",
      "\u001b[1;32m~\\Anaconda3\\lib\\site-packages\\pandas\\io\\excel\\_base.py\u001b[0m in \u001b[0;36minspect_excel_format\u001b[1;34m(path, content, storage_options)\u001b[0m\n\u001b[0;32m    956\u001b[0m     \u001b[1;32massert\u001b[0m \u001b[0mcontent_or_path\u001b[0m \u001b[1;32mis\u001b[0m \u001b[1;32mnot\u001b[0m \u001b[1;32mNone\u001b[0m\u001b[1;33m\u001b[0m\u001b[1;33m\u001b[0m\u001b[0m\n\u001b[0;32m    957\u001b[0m \u001b[1;33m\u001b[0m\u001b[0m\n\u001b[1;32m--> 958\u001b[1;33m     with get_handle(\n\u001b[0m\u001b[0;32m    959\u001b[0m         \u001b[0mcontent_or_path\u001b[0m\u001b[1;33m,\u001b[0m \u001b[1;34m\"rb\"\u001b[0m\u001b[1;33m,\u001b[0m \u001b[0mstorage_options\u001b[0m\u001b[1;33m=\u001b[0m\u001b[0mstorage_options\u001b[0m\u001b[1;33m,\u001b[0m \u001b[0mis_text\u001b[0m\u001b[1;33m=\u001b[0m\u001b[1;32mFalse\u001b[0m\u001b[1;33m\u001b[0m\u001b[1;33m\u001b[0m\u001b[0m\n\u001b[0;32m    960\u001b[0m     ) as handle:\n",
      "\u001b[1;32m~\\Anaconda3\\lib\\site-packages\\pandas\\io\\common.py\u001b[0m in \u001b[0;36mget_handle\u001b[1;34m(path_or_buf, mode, encoding, compression, memory_map, is_text, errors, storage_options)\u001b[0m\n\u001b[0;32m    654\u001b[0m         \u001b[1;32melse\u001b[0m\u001b[1;33m:\u001b[0m\u001b[1;33m\u001b[0m\u001b[1;33m\u001b[0m\u001b[0m\n\u001b[0;32m    655\u001b[0m             \u001b[1;31m# Binary mode\u001b[0m\u001b[1;33m\u001b[0m\u001b[1;33m\u001b[0m\u001b[1;33m\u001b[0m\u001b[0m\n\u001b[1;32m--> 656\u001b[1;33m             \u001b[0mhandle\u001b[0m \u001b[1;33m=\u001b[0m \u001b[0mopen\u001b[0m\u001b[1;33m(\u001b[0m\u001b[0mhandle\u001b[0m\u001b[1;33m,\u001b[0m \u001b[0mioargs\u001b[0m\u001b[1;33m.\u001b[0m\u001b[0mmode\u001b[0m\u001b[1;33m)\u001b[0m\u001b[1;33m\u001b[0m\u001b[1;33m\u001b[0m\u001b[0m\n\u001b[0m\u001b[0;32m    657\u001b[0m         \u001b[0mhandles\u001b[0m\u001b[1;33m.\u001b[0m\u001b[0mappend\u001b[0m\u001b[1;33m(\u001b[0m\u001b[0mhandle\u001b[0m\u001b[1;33m)\u001b[0m\u001b[1;33m\u001b[0m\u001b[1;33m\u001b[0m\u001b[0m\n\u001b[0;32m    658\u001b[0m \u001b[1;33m\u001b[0m\u001b[0m\n",
      "\u001b[1;31mPermissionError\u001b[0m: [Errno 13] Permission denied: 'Fosters\\\\Fosters Model - Decomposition - Raw TV.xlsx'"
     ]
    },
    {
     "data": {
      "image/png": "[encoded data removed]",
      "text/plain": [
       "<Figure size 432x288 with 1 Axes>"
      ]
     },
     "metadata": {
      "needs_background": "light"
     },
     "output_type": "display_data"
    }
   ],
   "source": [
    "%%time\n",
    "#saving a version of Excelw ith more points\n",
    "#writing the dataframes of Spend vs Revenue arrays into excel and generating new sheets for each\n",
    "channel_list=['B&D', 'PVID & BVOD', 'FB', 'Radio', 'Cinema', 'Youtube', 'Print', 'TV 2017', 'TV 2018']\n",
    "writer = pd.ExcelWriter(\"all_results_2.xlsx\")\n",
    "for channel in channel_list:\n",
    "    \n",
    "    #get_response_curve_from_refitting_coefficients(channel)\n",
    "    #going through the \n",
    "    \n",
    "    #import the excel of the Y values\n",
    "    df_Y=pd.read_excel(r'Fosters\\Model prediction Y.xlsx',sheet_name='Model predictions')\n",
    "    #import the excel of the model coefficients\n",
    "    model_coefficients=pd.read_excel(r'Fosters\\Fosters Model - Decomposition - Raw TV.xlsx',sheet_name='Model Coefficients')\n",
    "    #Removing the current names of the columns and replacing with the first row as n ames of the columns. \n",
    "    model_coefficients=model_coefficients.rename(columns=model_coefficients.iloc[0])[1:]\n",
    "\n",
    "    #import the excel of the Raw data for all channels\n",
    "    df_excel=pd.read_excel(r'Fosters\\Fosters Model - Decomposition - Raw TV.xlsx',sheet_name=f'Media Laydown - {channel}')\n",
    "    df=df_excel.copy()\n",
    "\n",
    "    #import the sheet relatedc to volume contributions\n",
    "    volume_contributions=pd.read_excel(r'Fosters\\Fosters Model - Decomposition - Raw TV.xlsx',sheet_name='Final Volume Contributions')\n",
    "\n",
    "    #determine whether the variable from the model is already taken as \"Spend\" or as \"Impressions/Admissions/Impacts\"\n",
    "    #If it's impressions, then the impressions per pound will need to be computed based on the two columns of data (Spend vs Impressions) as this will be needed for later transformations\n",
    "    x=model_coefficients['Variables'][int(model_coefficients[model_coefficients['Variables'].str.contains(channel)].index.values)]\n",
    "    if \"Spend\" in x:\n",
    "        raw_metric='Spend'\n",
    "        impressions_per_pound=1 #setting to one, as it won't affect the Raw column if divided by 1 later on. This means there is no need for further transformation on X axis of the response curve\n",
    "    else:\n",
    "        raw_metric='Impressions'\n",
    "        impressions_per_pound=(df.filter(regex=channel))\n",
    "        impressions_per_pound=sum(impressions_per_pound.iloc[:,1])/sum(impressions_per_pound.iloc[:,0])\n",
    "\n",
    "    #getting the value of the coefficient for the channel we are looking for\n",
    "    channel_coeff=get_model_coefficient(channel)\n",
    "\n",
    "    #The below function would be for extracting the values for lag, decay, diminishing returns, and for TV: saturation and gamma.  Diminishing returns will be calculated based on Max value in the raw column. \n",
    "\n",
    "    #run the function\n",
    "    df=get_main_dataframe(channel)\n",
    "    max_lag=get_max_lag(df)\n",
    "    #extracting the lag, decay, diminishing returns values. for all TV, they will have to go through and IF function to extract saturation and gamma:\n",
    "    lag=lag_values.get(channel)\n",
    "    decay=decay_values.get(channel)\n",
    "    list1=[\"Partnership\", \"TV 2017\",\"TV 2018\",\"B&D\"]\n",
    "    if channel in list1:\n",
    "        saturation=saturation_values.get(channel)\n",
    "        gamma=gamma_values.get(channel)\n",
    "    else:\n",
    "        dim_returns=(diminishing_returns_values.get(channel))*max(df['Raw'])\n",
    "\n",
    "    #creating a separation of min_value, max_value and sep size depending on impressions_per_pound value, in order to reduce response times for the code\n",
    "    if impressions_per_pound>35:\n",
    "        VWAP = get_weighted_average_price(channel)\n",
    "        #simulate_rev_contributions_with_model_coefficients(df,1,100000000, 500000)\n",
    "\n",
    "\n",
    "        a_b_coefficients=get_spend_to_volume_coefficients(channel)\n",
    "\n",
    "\n",
    "        #assigning slope to variable \"a\" and intercept to variable \"b\"\n",
    "        a=a_b_coefficients[1]\n",
    "        b=a_b_coefficients[2]\n",
    "\n",
    "        #simulate_rev_contributions_with_fitted_coefficients(df,1,100000000, 500000)\n",
    "\n",
    "    elif impressions_per_pound>0.01 and impressions_per_pound<35: \n",
    "        VWAP = get_weighted_average_price(channel)\n",
    "        #simulate_rev_contributions_with_model_coefficients(df,1,10000, 100)\n",
    "\n",
    "\n",
    "        a_b_coefficients=get_spend_to_volume_coefficients(channel)\n",
    "\n",
    "\n",
    "        #assigning slope to variable \"a\" and intercept to variable \"b\"\n",
    "        a=a_b_coefficients[1]\n",
    "        b=a_b_coefficients[2]\n",
    "\n",
    "        #simulate_rev_contributions_with_fitted_coefficients(df,1,1000000, 5000)\n",
    "    else:\n",
    "        VWAP = get_weighted_average_price(channel)\n",
    "        #simulate_rev_contributions_with_model_coefficients(df,1,300, 2)\n",
    "\n",
    "\n",
    "        a_b_coefficients=get_spend_to_volume_coefficients(channel)\n",
    "\n",
    "\n",
    "        #assigning slope to variable \"a\" and intercept to variable \"b\"\n",
    "        a=a_b_coefficients[1]\n",
    "        b=a_b_coefficients[2]\n",
    "\n",
    "        #simulate_rev_contributions_with_fitted_coefficients(df,1,300, 2)\n",
    "    \n",
    "    #getting the response curve for the channel\n",
    "    df=get_main_dataframe(channel)\n",
    "    res=get_final_response_curve(channel)\n",
    "    \n",
    "    #generating a name for the dataframe containign the array of Spend vs Revenue\n",
    "    name=generate_df_per_channel_name(channel)\n",
    "    name=pd.DataFrame({'Raw Spend': res[0],\n",
    "              'Revenue Contribution':(res[1]-min(res[1]))} ,#this step ensures that the curve is shifted upward to avoid it starting below 0 \n",
    "             columns=['Raw Spend', 'Revenue Contribution'])\n",
    "    \n",
    "    \n",
    "    # write dataframe to excel\n",
    "    name.to_excel(writer, f\"{channel}\")\n",
    "    # save the excel\n",
    "writer.save()\n",
    "writer.close()\n",
    "print('DataFrame is written successfully to Excel File.')"
   ]
  },
  {
   "cell_type": "code",
   "execution_count": null,
   "metadata": {},
   "outputs": [],
   "source": [
    "x"
   ]
  },
  {
   "cell_type": "code",
   "execution_count": 34,
   "metadata": {
    "scrolled": false
   },
   "outputs": [
    {
     "name": "stdout",
     "output_type": "stream",
     "text": [
      "R2 value is 0.9977616864779502\n",
      "The fitted curve for B&D volumes is Y_volume_B&D=77870.82628800542*X_model_input(Decay)+-55.69810867679644\n",
      "R2 value is 0.9962050837817108\n",
      "The fitted curve for PVID & BVOD volumes is Y_volume_PVID & BVOD=36017.00922043758*X_model_input(Decay)+-117.04570293226789\n"
     ]
    },
    {
     "ename": "KeyboardInterrupt",
     "evalue": "",
     "output_type": "error",
     "traceback": [
      "\u001b[1;31m---------------------------------------------------------------------------\u001b[0m",
      "\u001b[1;31mKeyboardInterrupt\u001b[0m                         Traceback (most recent call last)",
      "\u001b[1;32m<ipython-input-34-8361abbddeb9>\u001b[0m in \u001b[0;36m<module>\u001b[1;34m\u001b[0m\n\u001b[0;32m     95\u001b[0m     \u001b[1;31m#getting the response curve for the channel\u001b[0m\u001b[1;33m\u001b[0m\u001b[1;33m\u001b[0m\u001b[1;33m\u001b[0m\u001b[0m\n\u001b[0;32m     96\u001b[0m     \u001b[0mdf\u001b[0m\u001b[1;33m=\u001b[0m\u001b[0mget_main_dataframe\u001b[0m\u001b[1;33m(\u001b[0m\u001b[0mchannel\u001b[0m\u001b[1;33m)\u001b[0m\u001b[1;33m\u001b[0m\u001b[1;33m\u001b[0m\u001b[0m\n\u001b[1;32m---> 97\u001b[1;33m     \u001b[0mres\u001b[0m\u001b[1;33m=\u001b[0m\u001b[0mget_final_response_curve\u001b[0m\u001b[1;33m(\u001b[0m\u001b[0mchannel\u001b[0m\u001b[1;33m)\u001b[0m\u001b[1;33m\u001b[0m\u001b[1;33m\u001b[0m\u001b[0m\n\u001b[0m\u001b[0;32m     98\u001b[0m \u001b[1;33m\u001b[0m\u001b[0m\n\u001b[0;32m     99\u001b[0m     \u001b[1;31m#generating a name for the dataframe containign the array of Spend vs Revenue\u001b[0m\u001b[1;33m\u001b[0m\u001b[1;33m\u001b[0m\u001b[1;33m\u001b[0m\u001b[0m\n",
      "\u001b[1;32m<ipython-input-28-5e497695d257>\u001b[0m in \u001b[0;36mget_final_response_curve\u001b[1;34m(channel)\u001b[0m\n\u001b[0;32m     53\u001b[0m             \u001b[1;31m#use previously defined function to get all columns\u001b[0m\u001b[1;33m\u001b[0m\u001b[1;33m\u001b[0m\u001b[1;33m\u001b[0m\u001b[0m\n\u001b[0;32m     54\u001b[0m             \u001b[0mdf\u001b[0m\u001b[1;33m=\u001b[0m\u001b[0mget_decay_and_fitted_volume_contrib\u001b[0m\u001b[1;33m(\u001b[0m\u001b[0mdf\u001b[0m\u001b[1;33m)\u001b[0m\u001b[1;33m\u001b[0m\u001b[1;33m\u001b[0m\u001b[0m\n\u001b[1;32m---> 55\u001b[1;33m             \u001b[0mrevenue_contrib\u001b[0m\u001b[1;33m.\u001b[0m\u001b[0mappend\u001b[0m\u001b[1;33m(\u001b[0m\u001b[1;33m(\u001b[0m\u001b[0mdf\u001b[0m\u001b[1;33m[\u001b[0m\u001b[1;34m'Volume contributions'\u001b[0m\u001b[1;33m]\u001b[0m\u001b[1;33m*\u001b[0m\u001b[1;33m(\u001b[0m\u001b[0mget_weighted_average_price\u001b[0m\u001b[1;33m(\u001b[0m\u001b[0mchannel\u001b[0m\u001b[1;33m)\u001b[0m\u001b[1;33m)\u001b[0m\u001b[1;33m)\u001b[0m\u001b[1;33m.\u001b[0m\u001b[0msum\u001b[0m\u001b[1;33m(\u001b[0m\u001b[1;33m)\u001b[0m\u001b[1;33m)\u001b[0m\u001b[1;33m\u001b[0m\u001b[1;33m\u001b[0m\u001b[0m\n\u001b[0m\u001b[0;32m     56\u001b[0m             \u001b[0mi\u001b[0m\u001b[1;33m+=\u001b[0m\u001b[1;36m500\u001b[0m\u001b[1;33m\u001b[0m\u001b[1;33m\u001b[0m\u001b[0m\n\u001b[0;32m     57\u001b[0m     \u001b[1;31m#plot the response curves using Raw values and Volume contributions\u001b[0m\u001b[1;33m\u001b[0m\u001b[1;33m\u001b[0m\u001b[1;33m\u001b[0m\u001b[0m\n",
      "\u001b[1;32m<ipython-input-14-26c327643b24>\u001b[0m in \u001b[0;36mget_weighted_average_price\u001b[1;34m(channel)\u001b[0m\n\u001b[0;32m     18\u001b[0m \u001b[1;33m\u001b[0m\u001b[0m\n\u001b[0;32m     19\u001b[0m     \u001b[1;31m#import the sheet related to prices\u001b[0m\u001b[1;33m\u001b[0m\u001b[1;33m\u001b[0m\u001b[1;33m\u001b[0m\u001b[0m\n\u001b[1;32m---> 20\u001b[1;33m     \u001b[0mprices\u001b[0m\u001b[1;33m=\u001b[0m\u001b[0mpd\u001b[0m\u001b[1;33m.\u001b[0m\u001b[0mread_excel\u001b[0m\u001b[1;33m(\u001b[0m\u001b[1;34mr'Fosters\\Fosters APPL.xlsx'\u001b[0m\u001b[1;33m)\u001b[0m \u001b[1;31m#historical data of average per liter\u001b[0m\u001b[1;33m\u001b[0m\u001b[1;33m\u001b[0m\u001b[0m\n\u001b[0m\u001b[0;32m     21\u001b[0m \u001b[1;33m\u001b[0m\u001b[0m\n\u001b[0;32m     22\u001b[0m     \u001b[1;31m#dropping the unnamed columns as they are empty\u001b[0m\u001b[1;33m\u001b[0m\u001b[1;33m\u001b[0m\u001b[1;33m\u001b[0m\u001b[0m\n",
      "\u001b[1;32m~\\Anaconda3\\lib\\site-packages\\pandas\\util\\_decorators.py\u001b[0m in \u001b[0;36mwrapper\u001b[1;34m(*args, **kwargs)\u001b[0m\n\u001b[0;32m    297\u001b[0m                 )\n\u001b[0;32m    298\u001b[0m                 \u001b[0mwarnings\u001b[0m\u001b[1;33m.\u001b[0m\u001b[0mwarn\u001b[0m\u001b[1;33m(\u001b[0m\u001b[0mmsg\u001b[0m\u001b[1;33m,\u001b[0m \u001b[0mFutureWarning\u001b[0m\u001b[1;33m,\u001b[0m \u001b[0mstacklevel\u001b[0m\u001b[1;33m=\u001b[0m\u001b[0mstacklevel\u001b[0m\u001b[1;33m)\u001b[0m\u001b[1;33m\u001b[0m\u001b[1;33m\u001b[0m\u001b[0m\n\u001b[1;32m--> 299\u001b[1;33m             \u001b[1;32mreturn\u001b[0m \u001b[0mfunc\u001b[0m\u001b[1;33m(\u001b[0m\u001b[1;33m*\u001b[0m\u001b[0margs\u001b[0m\u001b[1;33m,\u001b[0m \u001b[1;33m**\u001b[0m\u001b[0mkwargs\u001b[0m\u001b[1;33m)\u001b[0m\u001b[1;33m\u001b[0m\u001b[1;33m\u001b[0m\u001b[0m\n\u001b[0m\u001b[0;32m    300\u001b[0m \u001b[1;33m\u001b[0m\u001b[0m\n\u001b[0;32m    301\u001b[0m         \u001b[1;32mreturn\u001b[0m \u001b[0mwrapper\u001b[0m\u001b[1;33m\u001b[0m\u001b[1;33m\u001b[0m\u001b[0m\n",
      "\u001b[1;32m~\\Anaconda3\\lib\\site-packages\\pandas\\io\\excel\\_base.py\u001b[0m in \u001b[0;36mread_excel\u001b[1;34m(io, sheet_name, header, names, index_col, usecols, squeeze, dtype, engine, converters, true_values, false_values, skiprows, nrows, na_values, keep_default_na, na_filter, verbose, parse_dates, date_parser, thousands, comment, skipfooter, convert_float, mangle_dupe_cols, storage_options)\u001b[0m\n\u001b[0;32m    342\u001b[0m \u001b[1;33m\u001b[0m\u001b[0m\n\u001b[0;32m    343\u001b[0m     \u001b[1;32mtry\u001b[0m\u001b[1;33m:\u001b[0m\u001b[1;33m\u001b[0m\u001b[1;33m\u001b[0m\u001b[0m\n\u001b[1;32m--> 344\u001b[1;33m         data = io.parse(\n\u001b[0m\u001b[0;32m    345\u001b[0m             \u001b[0msheet_name\u001b[0m\u001b[1;33m=\u001b[0m\u001b[0msheet_name\u001b[0m\u001b[1;33m,\u001b[0m\u001b[1;33m\u001b[0m\u001b[1;33m\u001b[0m\u001b[0m\n\u001b[0;32m    346\u001b[0m             \u001b[0mheader\u001b[0m\u001b[1;33m=\u001b[0m\u001b[0mheader\u001b[0m\u001b[1;33m,\u001b[0m\u001b[1;33m\u001b[0m\u001b[1;33m\u001b[0m\u001b[0m\n",
      "\u001b[1;32m~\\Anaconda3\\lib\\site-packages\\pandas\\io\\excel\\_base.py\u001b[0m in \u001b[0;36mparse\u001b[1;34m(self, sheet_name, header, names, index_col, usecols, squeeze, converters, true_values, false_values, skiprows, nrows, na_values, parse_dates, date_parser, thousands, comment, skipfooter, convert_float, mangle_dupe_cols, **kwds)\u001b[0m\n\u001b[0;32m   1177\u001b[0m             \u001b[0mDataFrame\u001b[0m \u001b[1;32mfrom\u001b[0m \u001b[0mthe\u001b[0m \u001b[0mpassed\u001b[0m \u001b[1;32min\u001b[0m \u001b[0mExcel\u001b[0m \u001b[0mfile\u001b[0m\u001b[1;33m.\u001b[0m\u001b[1;33m\u001b[0m\u001b[1;33m\u001b[0m\u001b[0m\n\u001b[0;32m   1178\u001b[0m         \"\"\"\n\u001b[1;32m-> 1179\u001b[1;33m         return self._reader.parse(\n\u001b[0m\u001b[0;32m   1180\u001b[0m             \u001b[0msheet_name\u001b[0m\u001b[1;33m=\u001b[0m\u001b[0msheet_name\u001b[0m\u001b[1;33m,\u001b[0m\u001b[1;33m\u001b[0m\u001b[1;33m\u001b[0m\u001b[0m\n\u001b[0;32m   1181\u001b[0m             \u001b[0mheader\u001b[0m\u001b[1;33m=\u001b[0m\u001b[0mheader\u001b[0m\u001b[1;33m,\u001b[0m\u001b[1;33m\u001b[0m\u001b[1;33m\u001b[0m\u001b[0m\n",
      "\u001b[1;32m~\\Anaconda3\\lib\\site-packages\\pandas\\io\\excel\\_base.py\u001b[0m in \u001b[0;36mparse\u001b[1;34m(self, sheet_name, header, names, index_col, usecols, squeeze, dtype, true_values, false_values, skiprows, nrows, na_values, verbose, parse_dates, date_parser, thousands, comment, skipfooter, convert_float, mangle_dupe_cols, **kwds)\u001b[0m\n\u001b[0;32m    499\u001b[0m                 \u001b[0msheet\u001b[0m \u001b[1;33m=\u001b[0m \u001b[0mself\u001b[0m\u001b[1;33m.\u001b[0m\u001b[0mget_sheet_by_index\u001b[0m\u001b[1;33m(\u001b[0m\u001b[0masheetname\u001b[0m\u001b[1;33m)\u001b[0m\u001b[1;33m\u001b[0m\u001b[1;33m\u001b[0m\u001b[0m\n\u001b[0;32m    500\u001b[0m \u001b[1;33m\u001b[0m\u001b[0m\n\u001b[1;32m--> 501\u001b[1;33m             \u001b[0mdata\u001b[0m \u001b[1;33m=\u001b[0m \u001b[0mself\u001b[0m\u001b[1;33m.\u001b[0m\u001b[0mget_sheet_data\u001b[0m\u001b[1;33m(\u001b[0m\u001b[0msheet\u001b[0m\u001b[1;33m,\u001b[0m \u001b[0mconvert_float\u001b[0m\u001b[1;33m)\u001b[0m\u001b[1;33m\u001b[0m\u001b[1;33m\u001b[0m\u001b[0m\n\u001b[0m\u001b[0;32m    502\u001b[0m             \u001b[0musecols\u001b[0m \u001b[1;33m=\u001b[0m \u001b[0mmaybe_convert_usecols\u001b[0m\u001b[1;33m(\u001b[0m\u001b[0musecols\u001b[0m\u001b[1;33m)\u001b[0m\u001b[1;33m\u001b[0m\u001b[1;33m\u001b[0m\u001b[0m\n\u001b[0;32m    503\u001b[0m \u001b[1;33m\u001b[0m\u001b[0m\n",
      "\u001b[1;32m~\\Anaconda3\\lib\\site-packages\\pandas\\io\\excel\\_openpyxl.py\u001b[0m in \u001b[0;36mget_sheet_data\u001b[1;34m(self, sheet, convert_float)\u001b[0m\n\u001b[0;32m    540\u001b[0m         \u001b[0mdata\u001b[0m\u001b[1;33m:\u001b[0m \u001b[0mList\u001b[0m\u001b[1;33m[\u001b[0m\u001b[0mList\u001b[0m\u001b[1;33m[\u001b[0m\u001b[0mScalar\u001b[0m\u001b[1;33m]\u001b[0m\u001b[1;33m]\u001b[0m \u001b[1;33m=\u001b[0m \u001b[1;33m[\u001b[0m\u001b[1;33m]\u001b[0m\u001b[1;33m\u001b[0m\u001b[1;33m\u001b[0m\u001b[0m\n\u001b[0;32m    541\u001b[0m         \u001b[0mlast_row_with_data\u001b[0m \u001b[1;33m=\u001b[0m \u001b[1;33m-\u001b[0m\u001b[1;36m1\u001b[0m\u001b[1;33m\u001b[0m\u001b[1;33m\u001b[0m\u001b[0m\n\u001b[1;32m--> 542\u001b[1;33m         \u001b[1;32mfor\u001b[0m \u001b[0mrow_number\u001b[0m\u001b[1;33m,\u001b[0m \u001b[0mrow\u001b[0m \u001b[1;32min\u001b[0m \u001b[0menumerate\u001b[0m\u001b[1;33m(\u001b[0m\u001b[0msheet\u001b[0m\u001b[1;33m.\u001b[0m\u001b[0mrows\u001b[0m\u001b[1;33m)\u001b[0m\u001b[1;33m:\u001b[0m\u001b[1;33m\u001b[0m\u001b[1;33m\u001b[0m\u001b[0m\n\u001b[0m\u001b[0;32m    543\u001b[0m             \u001b[0mconverted_row\u001b[0m \u001b[1;33m=\u001b[0m \u001b[1;33m[\u001b[0m\u001b[0mself\u001b[0m\u001b[1;33m.\u001b[0m\u001b[0m_convert_cell\u001b[0m\u001b[1;33m(\u001b[0m\u001b[0mcell\u001b[0m\u001b[1;33m,\u001b[0m \u001b[0mconvert_float\u001b[0m\u001b[1;33m)\u001b[0m \u001b[1;32mfor\u001b[0m \u001b[0mcell\u001b[0m \u001b[1;32min\u001b[0m \u001b[0mrow\u001b[0m\u001b[1;33m]\u001b[0m\u001b[1;33m\u001b[0m\u001b[1;33m\u001b[0m\u001b[0m\n\u001b[0;32m    544\u001b[0m             \u001b[1;32mif\u001b[0m \u001b[1;32mnot\u001b[0m \u001b[0mall\u001b[0m\u001b[1;33m(\u001b[0m\u001b[0mcell\u001b[0m \u001b[1;33m==\u001b[0m \u001b[1;34m\"\"\u001b[0m \u001b[1;32mfor\u001b[0m \u001b[0mcell\u001b[0m \u001b[1;32min\u001b[0m \u001b[0mconverted_row\u001b[0m\u001b[1;33m)\u001b[0m\u001b[1;33m:\u001b[0m\u001b[1;33m\u001b[0m\u001b[1;33m\u001b[0m\u001b[0m\n",
      "\u001b[1;32m~\\Anaconda3\\lib\\site-packages\\openpyxl\\worksheet\\_read_only.py\u001b[0m in \u001b[0;36m_cells_by_row\u001b[1;34m(self, min_col, min_row, max_col, max_row, values_only)\u001b[0m\n\u001b[0;32m     77\u001b[0m                                  \u001b[0mdata_only\u001b[0m\u001b[1;33m=\u001b[0m\u001b[0mself\u001b[0m\u001b[1;33m.\u001b[0m\u001b[0mparent\u001b[0m\u001b[1;33m.\u001b[0m\u001b[0mdata_only\u001b[0m\u001b[1;33m,\u001b[0m \u001b[0mepoch\u001b[0m\u001b[1;33m=\u001b[0m\u001b[0mself\u001b[0m\u001b[1;33m.\u001b[0m\u001b[0mparent\u001b[0m\u001b[1;33m.\u001b[0m\u001b[0mepoch\u001b[0m\u001b[1;33m,\u001b[0m\u001b[1;33m\u001b[0m\u001b[1;33m\u001b[0m\u001b[0m\n\u001b[0;32m     78\u001b[0m                                  date_formats=self.parent._date_formats)\n\u001b[1;32m---> 79\u001b[1;33m         \u001b[1;32mfor\u001b[0m \u001b[0midx\u001b[0m\u001b[1;33m,\u001b[0m \u001b[0mrow\u001b[0m \u001b[1;32min\u001b[0m \u001b[0mparser\u001b[0m\u001b[1;33m.\u001b[0m\u001b[0mparse\u001b[0m\u001b[1;33m(\u001b[0m\u001b[1;33m)\u001b[0m\u001b[1;33m:\u001b[0m\u001b[1;33m\u001b[0m\u001b[1;33m\u001b[0m\u001b[0m\n\u001b[0m\u001b[0;32m     80\u001b[0m             \u001b[1;32mif\u001b[0m \u001b[0mmax_row\u001b[0m \u001b[1;32mis\u001b[0m \u001b[1;32mnot\u001b[0m \u001b[1;32mNone\u001b[0m \u001b[1;32mand\u001b[0m \u001b[0midx\u001b[0m \u001b[1;33m>\u001b[0m \u001b[0mmax_row\u001b[0m\u001b[1;33m:\u001b[0m\u001b[1;33m\u001b[0m\u001b[1;33m\u001b[0m\u001b[0m\n\u001b[0;32m     81\u001b[0m                 \u001b[1;32mbreak\u001b[0m\u001b[1;33m\u001b[0m\u001b[1;33m\u001b[0m\u001b[0m\n",
      "\u001b[1;32m~\\Anaconda3\\lib\\site-packages\\openpyxl\\worksheet\\_reader.py\u001b[0m in \u001b[0;36mparse\u001b[1;34m(self)\u001b[0m\n\u001b[0;32m    142\u001b[0m         \u001b[0mit\u001b[0m \u001b[1;33m=\u001b[0m \u001b[0miterparse\u001b[0m\u001b[1;33m(\u001b[0m\u001b[0mself\u001b[0m\u001b[1;33m.\u001b[0m\u001b[0msource\u001b[0m\u001b[1;33m)\u001b[0m \u001b[1;31m# add a finaliser to close the source when this becomes possible\u001b[0m\u001b[1;33m\u001b[0m\u001b[1;33m\u001b[0m\u001b[0m\n\u001b[0;32m    143\u001b[0m \u001b[1;33m\u001b[0m\u001b[0m\n\u001b[1;32m--> 144\u001b[1;33m         \u001b[1;32mfor\u001b[0m \u001b[0m_\u001b[0m\u001b[1;33m,\u001b[0m \u001b[0melement\u001b[0m \u001b[1;32min\u001b[0m \u001b[0mit\u001b[0m\u001b[1;33m:\u001b[0m\u001b[1;33m\u001b[0m\u001b[1;33m\u001b[0m\u001b[0m\n\u001b[0m\u001b[0;32m    145\u001b[0m             \u001b[0mtag_name\u001b[0m \u001b[1;33m=\u001b[0m \u001b[0melement\u001b[0m\u001b[1;33m.\u001b[0m\u001b[0mtag\u001b[0m\u001b[1;33m\u001b[0m\u001b[1;33m\u001b[0m\u001b[0m\n\u001b[0;32m    146\u001b[0m             \u001b[1;32mif\u001b[0m \u001b[0mtag_name\u001b[0m \u001b[1;32min\u001b[0m \u001b[0mdispatcher\u001b[0m\u001b[1;33m:\u001b[0m\u001b[1;33m\u001b[0m\u001b[1;33m\u001b[0m\u001b[0m\n",
      "\u001b[1;32m~\\Anaconda3\\lib\\xml\\etree\\ElementTree.py\u001b[0m in \u001b[0;36miterator\u001b[1;34m()\u001b[0m\n\u001b[0;32m   1227\u001b[0m                 \u001b[1;32myield\u001b[0m \u001b[1;32mfrom\u001b[0m \u001b[0mpullparser\u001b[0m\u001b[1;33m.\u001b[0m\u001b[0mread_events\u001b[0m\u001b[1;33m(\u001b[0m\u001b[1;33m)\u001b[0m\u001b[1;33m\u001b[0m\u001b[1;33m\u001b[0m\u001b[0m\n\u001b[0;32m   1228\u001b[0m                 \u001b[1;31m# load event buffer\u001b[0m\u001b[1;33m\u001b[0m\u001b[1;33m\u001b[0m\u001b[1;33m\u001b[0m\u001b[0m\n\u001b[1;32m-> 1229\u001b[1;33m                 \u001b[0mdata\u001b[0m \u001b[1;33m=\u001b[0m \u001b[0msource\u001b[0m\u001b[1;33m.\u001b[0m\u001b[0mread\u001b[0m\u001b[1;33m(\u001b[0m\u001b[1;36m16\u001b[0m \u001b[1;33m*\u001b[0m \u001b[1;36m1024\u001b[0m\u001b[1;33m)\u001b[0m\u001b[1;33m\u001b[0m\u001b[1;33m\u001b[0m\u001b[0m\n\u001b[0m\u001b[0;32m   1230\u001b[0m                 \u001b[1;32mif\u001b[0m \u001b[1;32mnot\u001b[0m \u001b[0mdata\u001b[0m\u001b[1;33m:\u001b[0m\u001b[1;33m\u001b[0m\u001b[1;33m\u001b[0m\u001b[0m\n\u001b[0;32m   1231\u001b[0m                     \u001b[1;32mbreak\u001b[0m\u001b[1;33m\u001b[0m\u001b[1;33m\u001b[0m\u001b[0m\n",
      "\u001b[1;32m~\\Anaconda3\\lib\\zipfile.py\u001b[0m in \u001b[0;36mread\u001b[1;34m(self, n)\u001b[0m\n\u001b[0;32m    938\u001b[0m         \u001b[0mself\u001b[0m\u001b[1;33m.\u001b[0m\u001b[0m_offset\u001b[0m \u001b[1;33m=\u001b[0m \u001b[1;36m0\u001b[0m\u001b[1;33m\u001b[0m\u001b[1;33m\u001b[0m\u001b[0m\n\u001b[0;32m    939\u001b[0m         \u001b[1;32mwhile\u001b[0m \u001b[0mn\u001b[0m \u001b[1;33m>\u001b[0m \u001b[1;36m0\u001b[0m \u001b[1;32mand\u001b[0m \u001b[1;32mnot\u001b[0m \u001b[0mself\u001b[0m\u001b[1;33m.\u001b[0m\u001b[0m_eof\u001b[0m\u001b[1;33m:\u001b[0m\u001b[1;33m\u001b[0m\u001b[1;33m\u001b[0m\u001b[0m\n\u001b[1;32m--> 940\u001b[1;33m             \u001b[0mdata\u001b[0m \u001b[1;33m=\u001b[0m \u001b[0mself\u001b[0m\u001b[1;33m.\u001b[0m\u001b[0m_read1\u001b[0m\u001b[1;33m(\u001b[0m\u001b[0mn\u001b[0m\u001b[1;33m)\u001b[0m\u001b[1;33m\u001b[0m\u001b[1;33m\u001b[0m\u001b[0m\n\u001b[0m\u001b[0;32m    941\u001b[0m             \u001b[1;32mif\u001b[0m \u001b[0mn\u001b[0m \u001b[1;33m<\u001b[0m \u001b[0mlen\u001b[0m\u001b[1;33m(\u001b[0m\u001b[0mdata\u001b[0m\u001b[1;33m)\u001b[0m\u001b[1;33m:\u001b[0m\u001b[1;33m\u001b[0m\u001b[1;33m\u001b[0m\u001b[0m\n\u001b[0;32m    942\u001b[0m                 \u001b[0mself\u001b[0m\u001b[1;33m.\u001b[0m\u001b[0m_readbuffer\u001b[0m \u001b[1;33m=\u001b[0m \u001b[0mdata\u001b[0m\u001b[1;33m\u001b[0m\u001b[1;33m\u001b[0m\u001b[0m\n",
      "\u001b[1;32m~\\Anaconda3\\lib\\zipfile.py\u001b[0m in \u001b[0;36m_read1\u001b[1;34m(self, n)\u001b[0m\n\u001b[0;32m   1014\u001b[0m         \u001b[1;32melif\u001b[0m \u001b[0mself\u001b[0m\u001b[1;33m.\u001b[0m\u001b[0m_compress_type\u001b[0m \u001b[1;33m==\u001b[0m \u001b[0mZIP_DEFLATED\u001b[0m\u001b[1;33m:\u001b[0m\u001b[1;33m\u001b[0m\u001b[1;33m\u001b[0m\u001b[0m\n\u001b[0;32m   1015\u001b[0m             \u001b[0mn\u001b[0m \u001b[1;33m=\u001b[0m \u001b[0mmax\u001b[0m\u001b[1;33m(\u001b[0m\u001b[0mn\u001b[0m\u001b[1;33m,\u001b[0m \u001b[0mself\u001b[0m\u001b[1;33m.\u001b[0m\u001b[0mMIN_READ_SIZE\u001b[0m\u001b[1;33m)\u001b[0m\u001b[1;33m\u001b[0m\u001b[1;33m\u001b[0m\u001b[0m\n\u001b[1;32m-> 1016\u001b[1;33m             \u001b[0mdata\u001b[0m \u001b[1;33m=\u001b[0m \u001b[0mself\u001b[0m\u001b[1;33m.\u001b[0m\u001b[0m_decompressor\u001b[0m\u001b[1;33m.\u001b[0m\u001b[0mdecompress\u001b[0m\u001b[1;33m(\u001b[0m\u001b[0mdata\u001b[0m\u001b[1;33m,\u001b[0m \u001b[0mn\u001b[0m\u001b[1;33m)\u001b[0m\u001b[1;33m\u001b[0m\u001b[1;33m\u001b[0m\u001b[0m\n\u001b[0m\u001b[0;32m   1017\u001b[0m             self._eof = (self._decompressor.eof or\n\u001b[0;32m   1018\u001b[0m                          \u001b[0mself\u001b[0m\u001b[1;33m.\u001b[0m\u001b[0m_compress_left\u001b[0m \u001b[1;33m<=\u001b[0m \u001b[1;36m0\u001b[0m \u001b[1;32mand\u001b[0m\u001b[1;33m\u001b[0m\u001b[1;33m\u001b[0m\u001b[0m\n",
      "\u001b[1;31mKeyboardInterrupt\u001b[0m: "
     ]
    },
    {
     "data": {
      "image/png": "[encoded data removed]",
      "text/plain": [
       "<Figure size 432x288 with 1 Axes>"
      ]
     },
     "metadata": {
      "needs_background": "light"
     },
     "output_type": "display_data"
    }
   ],
   "source": [
    "#version of the process that will run faster\n",
    "#writing the dataframes of Spend vs Revenue arrays into excel and generating new sheets for each\n",
    "channel_list=['B&D', 'PVID & BVOD', 'FB', 'Radio', 'Cinema', 'Youtube', 'Print', 'TV 2017', 'TV 2018']\n",
    "writer = pd.ExcelWriter(\"all_results_2.xlsx\")\n",
    "for channel in channel_list:\n",
    "    \n",
    "    #get_response_curve_from_refitting_coefficients(channel)\n",
    "    #going through the \n",
    "    \n",
    "    #import the excel of the Y values\n",
    "    df_Y=pd.read_excel(r'Fosters\\Model prediction Y.xlsx',sheet_name='Model predictions')\n",
    "    #import the excel of the model coefficients\n",
    "    model_coefficients=pd.read_excel(r'Fosters\\Fosters Model - Decomposition - Raw TV.xlsx',sheet_name='Model Coefficients')\n",
    "    #Removing the current names of the columns and replacing with the first row as n ames of the columns. \n",
    "    model_coefficients=model_coefficients.rename(columns=model_coefficients.iloc[0])[1:]\n",
    "\n",
    "    #import the excel of the Raw data for all channels\n",
    "    df_excel=pd.read_excel(r'Fosters\\Fosters Model - Decomposition - Raw TV.xlsx',sheet_name=f'Media Laydown - {channel}')\n",
    "    df=df_excel.copy()\n",
    "\n",
    "    #import the sheet relatedc to volume contributions\n",
    "    volume_contributions=pd.read_excel(r'Fosters\\Fosters Model - Decomposition - Raw TV.xlsx',sheet_name='Final Volume Contributions')\n",
    "\n",
    "    #determine whether the variable from the model is already taken as \"Spend\" or as \"Impressions/Admissions/Impacts\"\n",
    "    #If it's impressions, then the impressions per pound will need to be computed based on the two columns of data (Spend vs Impressions) as this will be needed for later transformations\n",
    "    x=model_coefficients['Variables'][int(model_coefficients[model_coefficients['Variables'].str.contains(channel)].index.values)]\n",
    "    if \"Spend\" in x:\n",
    "        raw_metric='Spend'\n",
    "        impressions_per_pound=1 #setting to one, as it won't affect the Raw column if divided by 1 later on. This means there is no need for further transformation on X axis of the response curve\n",
    "    else:\n",
    "        raw_metric='Impressions'\n",
    "        impressions_per_pound=(df.filter(regex=channel))\n",
    "        impressions_per_pound=sum(impressions_per_pound.iloc[:,1])/sum(impressions_per_pound.iloc[:,0])\n",
    "\n",
    "    #getting the value of the coefficient for the channel we are looking for\n",
    "    channel_coeff=get_model_coefficient(channel)\n",
    "\n",
    "    #The below function would be for extracting the values for lag, decay, diminishing returns, and for TV: saturation and gamma.  Diminishing returns will be calculated based on Max value in the raw column. \n",
    "\n",
    "    #run the function\n",
    "    df=get_main_dataframe(channel)\n",
    "    max_lag=get_max_lag(df)\n",
    "    #extracting the lag, decay, diminishing returns values. for all TV, they will have to go through and IF function to extract saturation and gamma:\n",
    "    lag=lag_values.get(channel)\n",
    "    decay=decay_values.get(channel)\n",
    "    list1=[\"Partnership\", \"TV 2017\",\"TV 2018\",\"B&D\"]\n",
    "    if channel in list1:\n",
    "        saturation=saturation_values.get(channel)\n",
    "        gamma=gamma_values.get(channel)\n",
    "    else:\n",
    "        dim_returns=(diminishing_returns_values.get(channel))*max(df['Raw'])\n",
    "\n",
    "    #creating a separation of min_value, max_value and sep size depending on impressions_per_pound value, in order to reduce response times for the code\n",
    "    if impressions_per_pound>35:\n",
    "        VWAP = get_weighted_average_price(channel)\n",
    "        #simulate_rev_contributions_with_model_coefficients(df,1,100000000, 500000)\n",
    "\n",
    "\n",
    "        a_b_coefficients=get_spend_to_volume_coefficients(channel)\n",
    "\n",
    "\n",
    "        #assigning slope to variable \"a\" and intercept to variable \"b\"\n",
    "        a=a_b_coefficients[1]\n",
    "        b=a_b_coefficients[2]\n",
    "\n",
    "        #simulate_rev_contributions_with_fitted_coefficients(df,1,100000000, 500000)\n",
    "\n",
    "    elif impressions_per_pound>0.01 and impressions_per_pound<35: \n",
    "        VWAP = get_weighted_average_price(channel)\n",
    "        #simulate_rev_contributions_with_model_coefficients(df,1,10000, 100)\n",
    "\n",
    "\n",
    "        a_b_coefficients=get_spend_to_volume_coefficients(channel)\n",
    "\n",
    "\n",
    "        #assigning slope to variable \"a\" and intercept to variable \"b\"\n",
    "        a=a_b_coefficients[1]\n",
    "        b=a_b_coefficients[2]\n",
    "\n",
    "        #simulate_rev_contributions_with_fitted_coefficients(df,1,1000000, 5000)\n",
    "    else:\n",
    "        VWAP = get_weighted_average_price(channel)\n",
    "        #simulate_rev_contributions_with_model_coefficients(df,1,300, 2)\n",
    "\n",
    "\n",
    "        a_b_coefficients=get_spend_to_volume_coefficients(channel)\n",
    "\n",
    "\n",
    "        #assigning slope to variable \"a\" and intercept to variable \"b\"\n",
    "        a=a_b_coefficients[1]\n",
    "        b=a_b_coefficients[2]\n",
    "\n",
    "        #simulate_rev_contributions_with_fitted_coefficients(df,1,300, 2)\n",
    "    \n",
    "    #getting the response curve for the channel\n",
    "    df=get_main_dataframe(channel)\n",
    "    res=get_final_response_curve(channel)\n",
    "    \n",
    "    #generating a name for the dataframe containign the array of Spend vs Revenue\n",
    "    name=generate_df_per_channel_name(channel)\n",
    "    name=pd.DataFrame({'Raw Spend': res[0],\n",
    "              'Revenue Contribution':(res[1]-min(res[1]))} ,#this step ensures that the curve is shifted upward to avoid it starting below 0 \n",
    "             columns=['Raw Spend', 'Revenue Contribution'])\n",
    "    \n",
    "    \n",
    "    # write dataframe to excel\n",
    "    name.to_excel(writer, f\"{channel}\")\n",
    "    # save the excel\n",
    "writer.save()\n",
    "writer.close()\n",
    "print('DataFrame is written successfully to Excel File.')"
   ]
  },
  {
   "cell_type": "markdown",
   "metadata": {},
   "source": [
    "# Chapter 7: Fitting the functions <a name=\"Chapter7\"></a>\n",
    "\n",
    "Once the arrays are generated as per chapter 4, we can proceed to use interpolation methods to fit the function that will calculate revenue, based on spend inputs."
   ]
  },
  {
   "cell_type": "markdown",
   "metadata": {},
   "source": [
    "### 7.1 Method 1 - Importing the arrays from the excel file in Chapter 6"
   ]
  },
  {
   "cell_type": "code",
   "execution_count": null,
   "metadata": {},
   "outputs": [],
   "source": [
    "#read the excel file\n",
    "df_results=pd.read_excel('all_results_2.xlsx', sheet_name=f'{channel}')"
   ]
  },
  {
   "cell_type": "code",
   "execution_count": null,
   "metadata": {},
   "outputs": [],
   "source": [
    "#plotting the curves\n",
    "plt.plot(df_results['Raw Spend'],df_results['Revenue Contribution'], label=channel+\" fitted coeff\")\n",
    "\n",
    "plt.xlabel('Raw values Spend')\n",
    "plt.xticks(rotation=45)\n",
    "plt.ylabel(f'{channel} contribution to revenue')\n",
    "\n",
    "plt.ticklabel_format(style='plain')    # to prevent scientific not\n",
    "\n",
    "plt.legend()"
   ]
  },
  {
   "cell_type": "code",
   "execution_count": null,
   "metadata": {},
   "outputs": [],
   "source": [
    "#fit the function using interpolation methods \n",
    "#NOTE that the name of the function will need to change for each channel selected:\n",
    "PVID_BVOD_func=interp1d(df_results['Raw Spend'],df_results['Revenue Contribution'], fill_value=\"extrapolate\")"
   ]
  },
  {
   "cell_type": "markdown",
   "metadata": {},
   "source": [
    "Testing the new function to make sure it generates the same shape as in Chapter 4, and validated in Chapter 5:\n"
   ]
  },
  {
   "cell_type": "code",
   "execution_count": null,
   "metadata": {},
   "outputs": [],
   "source": [
    "from matplotlib.ticker import FormatStrFormatter\n",
    "#creating a series of x values (Spend):\n",
    "x=range(1,1000000)\n",
    "\n",
    "#plotting the new function:\n",
    "fig2, ax2 = plt.subplots()\n",
    "ax2.set_xlabel('Raw values Spend (£)')\n",
    "ax2.set_xlim(0,1000000)\n",
    "\n",
    "ax2.set_ylabel('Channels contribution to revenue (£)')\n",
    "#rotating x-axis ticks\n",
    "ax2.set_xticklabels(ax2.get_xticks(),rotation=40)\n",
    "ax2.xaxis.set_major_formatter(FormatStrFormatter('%.0f'))\n",
    "#work on this\n",
    "ax2.ticklabel_format(style='plain', axis='y') #prevents scientific notation\n",
    "\n",
    "ax2.plot(x, PVID_BVOD_func(x), label=channel)\n",
    "ax2.legend(loc='upper left', bbox_to_anchor=(1.05, 1.0))\n",
    "ax2.set_title('Media channels Response curve');"
   ]
  },
  {
   "cell_type": "markdown",
   "metadata": {},
   "source": [
    "Generating the rest of the response curves functions for all channels using this method of reading the Excel file for retrieving the arrays"
   ]
  },
  {
   "cell_type": "code",
   "execution_count": null,
   "metadata": {},
   "outputs": [],
   "source": [
    "#create a function for reading the channels dataframes of Spend vs Revenue from Excel\n",
    "def load_data(channel):\n",
    "    \n",
    "    df_results=pd.read_excel('all_results_2.xlsx', sheet_name=f'{channel}')\n",
    "    return df_results\n"
   ]
  },
  {
   "cell_type": "code",
   "execution_count": null,
   "metadata": {},
   "outputs": [],
   "source": [
    "#create functions for each of the channels based on the arrays of Raw values vs Revenue contributions from each channel in the dictionary\n",
    "\n",
    "channel_list=['B&D', 'PVID & BVOD', 'FB', 'Radio', 'Cinema', 'Youtube', 'Print'] #list can be ammended based on desired iterations\n",
    "all_functions={}\n",
    "#manually defining the function names for each channel and storing the functions in a dictionary with the channel name as a Key\n",
    "for channel in channel_list:\n",
    "    df_results=load_data(channel)\n",
    "    if channel=='Youtube':\n",
    "        youtube_func=interp1d(df_results['Raw Spend'],df_results['Revenue Contribution'], fill_value=\"extrapolate\")\n",
    "        all_functions[channel]=youtube_func\n",
    "    elif channel=='B&D':\n",
    "        BD_func=interp1d(df_results['Raw Spend'],df_results['Revenue Contribution'], fill_value=\"extrapolate\")\n",
    "        all_functions[channel]=BD_func\n",
    "    elif channel=='Cinema':\n",
    "        cinema_func=interp1d(df_results['Raw Spend'],df_results['Revenue Contribution'], fill_value=\"extrapolate\")\n",
    "        all_functions[channel]=cinema_func\n",
    "    elif channel=='Radio':\n",
    "        radio_func=interp1d(df_results['Raw Spend'],df_results['Revenue Contribution'], fill_value=\"extrapolate\")\n",
    "        all_functions[channel]=radio_func\n",
    "    elif channel=='FB':\n",
    "        FB_func=interp1d(df_results['Raw Spend'],df_results['Revenue Contribution'], fill_value=\"extrapolate\")\n",
    "        all_functions[channel]=FB_func\n",
    "    elif channel=='PVID & BVOD':\n",
    "        PVID_BVOD_func=interp1d(df_results['Raw Spend'],df_results['Revenue Contribution'], fill_value=\"extrapolate\")\n",
    "        all_functions[channel]=PVID_BVOD_func\n",
    "    elif channel=='Print':\n",
    "        print_func=interp1d(df_results['Raw Spend'],df_results['Revenue Contribution'], fill_value=\"extrapolate\")\n",
    "        all_functions[channel]=print_func\n",
    "    elif channel=='TV 2017':\n",
    "        TV_2017_func=interp1d(df_results['Raw Spend'],df_results['Revenue Contribution'], fill_value=\"extrapolate\")\n",
    "        all_functions[channel]=TV_2017_func\n",
    "    elif channel=='TV 2018':\n",
    "        TV_2018_func=interp1d(df_results['Raw Spend'],df_results['Revenue Contribution'], fill_value=\"extrapolate\")\n",
    "        all_functions[channel]=TV_2018_func\n",
    "\n",
    "\n",
    "fig2, ax2 = plt.subplots()\n",
    "ax2.set_xlabel('Raw values Spend (£)')\n",
    "ax2.set_xlim(0,1000000)\n",
    "\n",
    "ax2.set_ylabel('Channels contribution to revenue (£)')\n",
    "#rotating x-axis ticks\n",
    "ax2.set_xticklabels(ax2.get_xticks(),rotation=40)\n",
    "ax2.xaxis.set_major_formatter(FormatStrFormatter('%.0f'))\n",
    "#work on this\n",
    "ax2.ticklabel_format(style='plain', axis='y') #prevents scientific notation\n",
    "x=range(1,1000000)\n",
    "#definiting a function that would plot the response curve for each channel\n",
    "def plot_fitted_funcs(channel):  \n",
    "    \n",
    "    ax2.plot(x, all_functions[channel](x), label=channel)\n",
    "    #ax2.plot(x,(all_functions[channel](x)/x), label=f'ROI {channel}')\n",
    "                # Put a legend to the right of the current axis\n",
    "    ax2.legend(loc='upper left', bbox_to_anchor=(1.05, 1.0))\n",
    "    ax2.set_title('Media channels Response curve');\n",
    "    return\n",
    "\n",
    "#iterating through channel list and plotting response curves\n",
    "for channel in channel_list:\n",
    "    fig2=plot_fitted_funcs(channel)\n"
   ]
  },
  {
   "cell_type": "markdown",
   "metadata": {},
   "source": [
    "### 7.2 Method 2: Running the function for computing the response curve array to generate the results and fit the curve"
   ]
  },
  {
   "cell_type": "markdown",
   "metadata": {},
   "source": [
    "Before applying the get_final_response_curve function, we must apply the get_main_dataframe function, in order to derive the correct Lag values, correct dim_returns, etc. Otherwise the rest of the computations risk having some residues from other functions which were run in the past, and show some strange results."
   ]
  },
  {
   "cell_type": "markdown",
   "metadata": {},
   "source": [
    "Therefore Method 1 is advsied as being safer as less errors coudl occur during the process of re-running the algorithms"
   ]
  },
  {
   "cell_type": "code",
   "execution_count": null,
   "metadata": {},
   "outputs": [],
   "source": [
    "df=get_main_dataframe(channel)"
   ]
  },
  {
   "cell_type": "code",
   "execution_count": null,
   "metadata": {},
   "outputs": [],
   "source": [
    "channel"
   ]
  },
  {
   "cell_type": "code",
   "execution_count": null,
   "metadata": {},
   "outputs": [],
   "source": [
    "%%time\n",
    "#this function will generate the array of Spend & Revenue contributions to enable the curve to be plotted \n",
    "res=get_final_response_curve(channel)\n"
   ]
  },
  {
   "cell_type": "code",
   "execution_count": null,
   "metadata": {},
   "outputs": [],
   "source": [
    "res"
   ]
  },
  {
   "cell_type": "code",
   "execution_count": null,
   "metadata": {
    "scrolled": true
   },
   "outputs": [],
   "source": [
    "#plotting the result of the function above\n",
    "plt.plot(res[0],res[1]-min(res[1]), label=channel+\" fitted coeff\")\n",
    "\n",
    "plt.xlabel('Raw values Spend')\n",
    "plt.xticks(rotation=45)\n",
    "plt.ylabel(f'{channel} contribution to revenue')\n",
    "\n",
    "plt.ticklabel_format(style='plain')    # to prevent scientific not\n",
    "\n",
    "plt.legend(loc='upper left', bbox_to_anchor=(1.05, 1.0))\n",
    "plt.show()"
   ]
  },
  {
   "cell_type": "code",
   "execution_count": null,
   "metadata": {},
   "outputs": [],
   "source": [
    "#fit the function using interpolation methods \n",
    "#NOTE that the name of the function will need to change for each channel selected:\n",
    "PVID_BVOD_func=interp1d(res[0],res[1]-min(res[1]), fill_value=\"extrapolate\")"
   ]
  },
  {
   "cell_type": "code",
   "execution_count": null,
   "metadata": {
    "scrolled": true
   },
   "outputs": [],
   "source": [
    "#Testing the new function to make sure it generates the same shape as in Chapter 4, and validated in Chapter 5:\n",
    "\n",
    "\n",
    "from matplotlib.ticker import FormatStrFormatter\n",
    "#creating a series of x values (Spend):\n",
    "x=range(1,1000000)\n",
    "\n",
    "#plotting the new function:\n",
    "fig2, ax2 = plt.subplots()\n",
    "ax2.set_xlabel('Raw values Spend (£)')\n",
    "ax2.set_xlim(0,1000000)\n",
    "\n",
    "ax2.set_ylabel('Channels contribution to revenue (£)')\n",
    "#rotating x-axis ticks\n",
    "ax2.set_xticklabels(ax2.get_xticks(),rotation=40)\n",
    "ax2.xaxis.set_major_formatter(FormatStrFormatter('%.0f')) #helps prevent some issues with the curves\n",
    "ax2.ticklabel_format(style='plain', axis='y') #prevents scientific notation\n",
    "\n",
    "ax2.plot(x, PVID_BVOD_func(x), label=channel) #change the function of the channel here ro reflect channel_function(x)\n",
    "ax2.legend(loc='upper left', bbox_to_anchor=(1.05, 1.0))\n",
    "ax2.set_title('Media channels Response curve');"
   ]
  },
  {
   "cell_type": "markdown",
   "metadata": {},
   "source": [
    "If we decide to go via this method, we would require to store all the results of the arrays in a dictionary, in order to be able to call back on the arrays for each channel from the dictionary"
   ]
  },
  {
   "cell_type": "code",
   "execution_count": null,
   "metadata": {},
   "outputs": [],
   "source": [
    "res_PVID_BVOD=res.copy()"
   ]
  },
  {
   "cell_type": "code",
   "execution_count": null,
   "metadata": {},
   "outputs": [],
   "source": [
    "all_res={'PVID & BVOD':res_PVID_BVOD}"
   ]
  },
  {
   "cell_type": "code",
   "execution_count": null,
   "metadata": {},
   "outputs": [],
   "source": [
    "#create functions for each of the channels based on the arrays of Raw values vs Revenue contributions from each channel in the dictionary\n",
    "# youtube_func=interp1d(all_res['Youtube'][0], (all_res['Youtube'][1]-min(all_res['Youtube'][1])), fill_value=\"extrapolate\")\n",
    "# BD_func=interp1d(all_res['B&D'][0], (all_res['B&D'][1]-min(all_res['B&D'][1])), fill_value=\"extrapolate\")\n",
    "# cinema_func=interp1d(all_res['Cinema'][0], (all_res['Cinema'][1]-min(all_res['Cinema'][1])), fill_value=\"extrapolate\")\n",
    "# radio_func=interp1d(all_res['Radio'][0],(all_res['Radio'][1]-min(all_res['Radio'][1])), fill_value='extrapolate')\n",
    "# FB_func=interp1d(all_res['FB'][0],(all_res['FB'][1]-min(all_res['FB'][1])), fill_value='extrapolate')\n",
    "PVID_BVOD_func=interp1d(all_res['PVID & BVOD'][0],(all_res['PVID & BVOD'][1]-min(all_res['PVID & BVOD'][1])), fill_value='extrapolate')\n",
    "# print_func=interp1d(all_res['Print'][0],(all_res['Print'][1]-min(all_res['Print'][1])), fill_value='extrapolate')"
   ]
  },
  {
   "cell_type": "code",
   "execution_count": null,
   "metadata": {},
   "outputs": [],
   "source": [
    "x=range(1,1000000)"
   ]
  },
  {
   "cell_type": "code",
   "execution_count": null,
   "metadata": {
    "scrolled": true
   },
   "outputs": [],
   "source": [
    "# plt.plot(x, youtube_func(x), label='Youtube')\n",
    "# plt.plot(x, BD_func(x), label='B&D')\n",
    "# plt.plot(x, cinema_func(x), label='Cinema')\n",
    "# plt.plot(x, radio_func(x), label='Radio')\n",
    "# plt.plot(x, FB_func(x), label='FB')\n",
    "plt.plot(x, PVID_BVOD_func(x), label=f'{channel}')\n",
    "# plt.plot(x, print_func(x), label='Print')\n",
    "\n",
    "plt.xlabel('Weekly raw values Spend (£)')\n",
    "plt.xticks(rotation=45)\n",
    "plt.ylabel('Channels contribution to revenue (£)')\n",
    "\n",
    "plt.ticklabel_format(style='plain')    # to prevent scientific not\n",
    "plt.legend(bbox_to_anchor=(1.05, 1.0), loc='upper left')\n",
    "plt.show()"
   ]
  },
  {
   "cell_type": "markdown",
   "metadata": {},
   "source": [
    "# Chapter 8: Optimisation <a name=\"Chapter8\"></a>"
   ]
  },
  {
   "cell_type": "markdown",
   "metadata": {},
   "source": [
    "### 8.1 Defining the objective function"
   ]
  },
  {
   "cell_type": "markdown",
   "metadata": {},
   "source": [
    "OUr intention is to maximise revenue, however given we already derived revenue as an array in all_res['channel'][1] we can already deduct that maximising the sum of all revenue for all channels will be our objective function "
   ]
  },
  {
   "cell_type": "code",
   "execution_count": null,
   "metadata": {},
   "outputs": [],
   "source": [
    "from scipy.optimize import minimize"
   ]
  },
  {
   "cell_type": "code",
   "execution_count": null,
   "metadata": {},
   "outputs": [],
   "source": [
    "#out intention is to maximise revenue. \n",
    "def total_revenue(spend_array):\n",
    "\n",
    "    cinema_spend = spend_array[0]\n",
    "    Youtube_spend = spend_array[1]\n",
    "    BD_spend = spend_array[2]\n",
    "    FB_spend = spend_array[3]\n",
    "    radio_spend = spend_array[4]\n",
    "    PVID_BVOD_spend = spend_array[5]\n",
    "    print_spend = spend_array[6]\n",
    "    \n",
    "    return -(cinema_func(cinema_spend) + youtube_func(Youtube_spend) + BD_func(BD_spend)+ FB_func(FB_spend)+radio_func(radio_spend) + PVID_BVOD_func(PVID_BVOD_spend) + print_func(print_spend))"
   ]
  },
  {
   "cell_type": "markdown",
   "metadata": {},
   "source": [
    "### 8.2 Define x0\n",
    "<br>Scipy needs us to define an initial guess. For this type of optimisation it shouldn't matter too much. It's fine for the total revenue to be negative, because we are expecting it to be maxed - which is the negative of minmise.\n"
   ]
  },
  {
   "cell_type": "code",
   "execution_count": null,
   "metadata": {
    "scrolled": true
   },
   "outputs": [],
   "source": [
    "x0 = [5, 5, 5,5,5,5, 5]\n",
    "type(x0)\n",
    "total_revenue(x0)"
   ]
  },
  {
   "cell_type": "markdown",
   "metadata": {},
   "source": [
    "### 8.3 Define bounds and constraints\n",
    "<br> Our bounds are the max and min values each solution can have i.e. how much or little marketing is willing to spend in each stream\n",
    "\n",
    "<br> Our constraint is that the solution vector cannot be higher than the total budget available"
   ]
  },
  {
   "cell_type": "code",
   "execution_count": null,
   "metadata": {},
   "outputs": [],
   "source": [
    "#Define bounds for each channel\n",
    "cinema_bounds = [0, 100000]\n",
    "Youtube_bounds = [0, 100000]\n",
    "BD_bounds = [0, 100000000]\n",
    "FB_bounds = [0, 100000]\n",
    "radio_bounds = [0, 100000]\n",
    "PVID_BVOD_bounds = [0, 100000]\n",
    "print_bounds = [0, 100000]\n",
    "\n",
    "bounds = [cinema_bounds, Youtube_bounds, BD_bounds, FB_bounds, radio_bounds,PVID_BVOD_bounds, print_bounds]"
   ]
  },
  {
   "cell_type": "markdown",
   "metadata": {},
   "source": [
    "We need to create a function to define our linear constraint.\n",
    "\n",
    "This function will take the solution vector (our budget per stream) and ensure it's smaller than the budget"
   ]
  },
  {
   "cell_type": "code",
   "execution_count": null,
   "metadata": {},
   "outputs": [],
   "source": [
    "budget = 2500000\n",
    "\n",
    "def budget_constraint(spend_array):\n",
    "    \"\"\"constrain budget to always be >= spend\"\"\"\n",
    "    return budget - sum(spend_array)\n",
    "\n",
    "def ineq_constraint(x):\n",
    "    \"\"\"constrain all elements of x to be >= 0\"\"\"\n",
    "    return x\n",
    "\n",
    "constraints = [{\n",
    "    'type' : 'ineq',\n",
    "    'fun' : budget_constraint\n",
    "},\n",
    "    {'type': 'ineq', \n",
    "     'fun': ineq_constraint\n",
    "    }]\n",
    "\n",
    "#defining options which wil be used for setting maximum iterations\n",
    "options = {'maxiter' : 10000}"
   ]
  },
  {
   "cell_type": "markdown",
   "metadata": {},
   "source": [
    "### 8.4 Run the optimisation\n",
    "Finally, we can run the minimize function with our objective function, initial guess, bounds and constraints!"
   ]
  },
  {
   "cell_type": "code",
   "execution_count": null,
   "metadata": {},
   "outputs": [],
   "source": [
    "result = minimize(\n",
    "    fun = total_revenue,\n",
    "    x0 = x0,\n",
    "    bounds = bounds,\n",
    "    constraints = constraints,\n",
    "    method = 'SLSQP',\n",
    "    options=options\n",
    ")\n",
    "print(result)"
   ]
  },
  {
   "cell_type": "code",
   "execution_count": null,
   "metadata": {},
   "outputs": [],
   "source": [
    "def summarise(result):\n",
    "    print(f\"Optimal Cinema budget = £{result.x[0]:.3f}\")\n",
    "    print(f\"Optimal Youtube budget = £{result.x[1]:3f}\")\n",
    "    print(f\"Optimal B&D budget = £{result.x[2]:.3f}\")\n",
    "    print(f\"Optimal FB budget = £{result.x[3]:.3f}\")\n",
    "    print(f\"Optimal Radio budget = £{result.x[4]:.3f}\")\n",
    "    print(f\"Optimal PVID & BVOD budget = £{result.x[5]:.3f}\")\n",
    "    print(f\"Optimal Print budget = £{result.x[6]:.3f}\")\n",
    "    print(40*\"-\")\n",
    "    print(f\"Max revenue = £{-total_revenue(result.x)}\")\n",
    "    print(40*\"-\")"
   ]
  },
  {
   "cell_type": "code",
   "execution_count": null,
   "metadata": {
    "scrolled": true
   },
   "outputs": [],
   "source": [
    "summarise(result)"
   ]
  },
  {
   "cell_type": "code",
   "execution_count": null,
   "metadata": {},
   "outputs": [],
   "source": []
  },
  {
   "cell_type": "code",
   "execution_count": null,
   "metadata": {},
   "outputs": [],
   "source": []
  },
  {
   "cell_type": "markdown",
   "metadata": {},
   "source": [
    "### TESTING PHASE: Test the shape of the response curves if we shift the ,marketing investment along the different weeks :"
   ]
  },
  {
   "cell_type": "markdown",
   "metadata": {},
   "source": [
    "In order to test out the behaviour of the response curves across different weeks of the year (to attempt to account for seasonality behaviour) we can simulate the process above for all weeks within our data set. The model prediction vlaues Y will be reflextive of the various behaviours within the market that cause fluctuations : Seasonality, market conditions, and other factors which may lead to a higher base of volume sales."
   ]
  },
  {
   "cell_type": "markdown",
   "metadata": {},
   "source": [
    "Below test is for Print:"
   ]
  },
  {
   "cell_type": "code",
   "execution_count": null,
   "metadata": {},
   "outputs": [],
   "source": [
    "def get_final_response_curve_weekly(channel, week):\n",
    "    df=get_main_dataframe(channel)\n",
    "    #simulating the different predicted volume contributions (based on fitted curve that we derived):\n",
    "    raw_values=[]\n",
    "    revenue_contrib=[]\n",
    "\n",
    "    #setting max)lag based on historical data (before running this function)\n",
    "\n",
    "    #defining a loop that will iterate through various numbers and simulate the inputs and volumes\n",
    "    #fill the 'Raw' column with zero values\n",
    "    df['Raw'].values[:]=0\n",
    "    if impressions_per_pound <0.001:\n",
    "        i=1\n",
    "        while (i/impressions_per_pound) <=1000000:\n",
    "            raw_values.append(i/impressions_per_pound)\n",
    "            #Replacing first Raw value with 1000 as a test\n",
    "            df['Raw'][week]=i\n",
    "\n",
    "            #use previously defined function to get all columns\n",
    "            df=get_decay_and_fitted_volume_contrib(df)\n",
    "            revenue_contrib.append((df['Volume contributions']*(get_weighted_average_price(channel))).sum())\n",
    "            i+=1\n",
    "    elif impressions_per_pound<50 and impressions_per_pound>0.001:\n",
    "        i=1\n",
    "        while (i/impressions_per_pound) <=1000000:\n",
    "            raw_values.append(i/impressions_per_pound)\n",
    "            #Replacing first Raw value with 1000 as a test\n",
    "            df['Raw'][week]=i\n",
    "\n",
    "            #use previously defined function to get all columns\n",
    "            df=get_decay_and_fitted_volume_contrib(df)\n",
    "            revenue_contrib.append((df['Volume contributions']*(get_weighted_average_price(channel))).sum())\n",
    "            i+=50000\n",
    "    elif impressions_per_pound>50 and impressions_per_pound<500:\n",
    "        i=1\n",
    "        while (i/impressions_per_pound) <=1000000:\n",
    "            raw_values.append(i/impressions_per_pound)\n",
    "            #Replacing first Raw value with 1000 as a test\n",
    "            df['Raw'][week]=i\n",
    "\n",
    "            #use previously defined function to get all columns\n",
    "            df=get_decay_and_fitted_volume_contrib(df)\n",
    "            revenue_contrib.append((df['Volume contributions']*(get_weighted_average_price(channel))).sum())\n",
    "            i+=500000\n",
    "    else: \n",
    "        i=1\n",
    "        while (i/impressions_per_pound) <=1000000:\n",
    "            raw_values.append(i/impressions_per_pound)\n",
    "            #Replacing first Raw value with 1000 as a test\n",
    "            df['Raw'][week]=i\n",
    "\n",
    "            #use previously defined function to get all columns\n",
    "            df=get_decay_and_fitted_volume_contrib(df)\n",
    "            revenue_contrib.append((df['Volume contributions']*(get_weighted_average_price(channel))).sum())\n",
    "            i+=5000000\n",
    "    #plot the response curves using Raw values and Volume contributions\n",
    "#     plt.plot(raw_values,revenue_contrib, label=channel+\" fitted coeff\")\n",
    "\n",
    "#     plt.xlabel('Raw values Spend')\n",
    "#     plt.xticks(rotation=45)\n",
    "#     plt.ylabel(f'{channel} contribution to revenue')\n",
    "\n",
    "#     plt.ticklabel_format(style='plain')    # to prevent scientific not\n",
    "#     plt.legend()\n",
    "    res=[raw_values, revenue_contrib]\n",
    "    return res\n",
    "    "
   ]
  },
  {
   "cell_type": "code",
   "execution_count": null,
   "metadata": {
    "scrolled": true
   },
   "outputs": [],
   "source": [
    "%%time\n",
    "#plotting\n",
    "fig, ax = plt.subplots()\n",
    "\n",
    "\n",
    "ax.set_xlabel('Raw values Spend (£)')\n",
    "ax.set_ylabel('Channels contribution to revenue (£)')\n",
    "\n",
    "# labels = ax.set_xticklabels()\n",
    "ax.set_xticklabels(ax.get_xticks(),rotation=40)\n",
    "\n",
    "# Put a legend to the right of the current axis\n",
    "ax.legend(loc='upper left', bbox_to_anchor=(1.05, 1.0))\n",
    "#ax.set_title('PVID Response curve');\n",
    "\n",
    "#plotting the actual curves:\n",
    "for week in range(len(df)):\n",
    "    res_test=get_final_response_curve_weekly(channel,week)\n",
    "    \n",
    "    ax.plot(res_test[0],res_test[1], label=channel+\"_\"+str(week))\n",
    "\n",
    "fig.show()"
   ]
  },
  {
   "cell_type": "code",
   "execution_count": null,
   "metadata": {
    "scrolled": false
   },
   "outputs": [],
   "source": [
    "%%time\n",
    "import matplotlib.ticker as mticker\n",
    "from matplotlib.ticker import FormatStrFormatter\n",
    "label_format = '{:,.2f}'\n",
    "#plotting\n",
    "fig, ax = plt.subplots()\n",
    "\n",
    "\n",
    "ax.set_xlabel('Raw values Spend (£)')\n",
    "ax.set_ylabel('Channels contribution to revenue (£)')\n",
    "\n",
    "# labels = ax.set_xticklabels()\n",
    "ax.set_xticklabels(ax.get_xticks(),rotation=40)\n",
    "ax.xaxis.set_major_formatter(FormatStrFormatter('%.2f'))\n",
    "\n",
    "# Put a legend to the right of the current axis\n",
    "ax.legend(loc='upper left', bbox_to_anchor=(1.05, 1.0))\n",
    "#ax.set_title('PVID Response curve');\n",
    "ax.ticklabel_format(style='plain', axis='y')\n",
    "\n",
    "# fixing xticks with matplotlib.ticker \"FixedLocator\"\n",
    "# ticks_loc = ax.get_xticks().tolist()\n",
    "# ax.xaxis.set_major_locator(mticker.FixedLocator(ticks_loc))\n",
    "# ax.set_xticklabels([label_format.format(x) for x in ticks_loc],rotation=40)\n",
    "\n",
    "#ax.get_xaxis().set_minor_locator(mticker.ticker.AutoMinorLocator())\n",
    "\n",
    "#plotting the actual curves:\n",
    "for week in range(52,104,1):\n",
    "    res_test=get_final_response_curve_weekly(channel,week)\n",
    "    \n",
    "    ax.plot(res_test[0],res_test[1], label=channel+\"_\"+str(week))\n",
    "\n",
    "fig.show()"
   ]
  },
  {
   "cell_type": "markdown",
   "metadata": {},
   "source": [
    "# References"
   ]
  },
  {
   "cell_type": "markdown",
   "metadata": {},
   "source": [
    "- James, G., Witten, D., Hastie, T., & Tibshirani, R. (2013). Springer Texts in Statistics An Introduction to Statistical Learning. http://www.springer.com/series/417 \n",
    "\n",
    "- Johnson, D., Gupta, N. K., Bazari, P., & Mehndiratta, N. (2018). Exploring Granular Data in MMM: Updated Models, Better Insights. Accenture. \n",
    "\n",
    "- Ofir Chezy, & Khuri André. (1986). Multicollinearity in marketing models: Diagnostics and remedial measures. International Journal of Research in Marketing, 3(3), 181–205. \n",
    "\n",
    "- Poynter, R., Williams, N., & York, S. (2014). The Handbook of Mobile Market Research. In The Handbook of Mobile Market Research. John Wiley & Sons, Inc. https://doi.org/10.1002/9781119208198 "
   ]
  },
  {
   "cell_type": "code",
   "execution_count": null,
   "metadata": {},
   "outputs": [],
   "source": []
  }
 ],
 "metadata": {
  "kernelspec": {
   "display_name": "Python 3",
   "language": "python",
   "name": "python3"
  },
  "language_info": {
   "codemirror_mode": {
    "name": "ipython",
    "version": 3
   },
   "file_extension": ".py",
   "mimetype": "text/x-python",
   "name": "python",
   "nbconvert_exporter": "python",
   "pygments_lexer": "ipython3",
   "version": "3.8.10"
  }
 },
 "nbformat": 4,
 "nbformat_minor": 2
}
